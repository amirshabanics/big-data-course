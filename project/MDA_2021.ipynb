{
  "cells": [
    {
      "cell_type": "markdown",
      "metadata": {
        "id": "kPt5q27L5557"
      },
      "source": [
        "# MDA 2021\n",
        "## Pyspark Sample Code\n",
        "-----------------------------------------------------------------"
      ]
    },
    {
      "cell_type": "markdown",
      "metadata": {
        "id": "p0-YhEpP_Ds-"
      },
      "source": [
        "## Setup\n",
        "--------------------------------------------------"
      ]
    },
    {
      "cell_type": "markdown",
      "metadata": {
        "id": "Zsj5WYpR9QId"
      },
      "source": [
        "Let's setup Spark on your Colab environment.  Run the cell below!"
      ]
    },
    {
      "cell_type": "code",
      "execution_count": 16,
      "metadata": {
        "colab": {
          "base_uri": "https://localhost:8080/"
        },
        "id": "k-qHai2252mI",
        "outputId": "cb6ad315-8ac8-4bd4-da7c-c4c1bc519820"
      },
      "outputs": [
        {
          "name": "stdout",
          "output_type": "stream",
          "text": [
            "Requirement already satisfied: pyspark in /home/amir/PycharmProjects/big data/hw2/spark/lib/python3.8/site-packages (3.2.1)\n",
            "Requirement already satisfied: py4j==0.10.9.3 in /home/amir/PycharmProjects/big data/hw2/spark/lib/python3.8/site-packages (from pyspark) (0.10.9.3)\n",
            "Note: you may need to restart the kernel to use updated packages.\n",
            "Requirement already up-to-date: arabic-reshaper in /home/amir/PycharmProjects/big data/hw2/spark/lib/python3.8/site-packages (2.1.3)\n",
            "Requirement already satisfied, skipping upgrade: future in /home/amir/PycharmProjects/big data/hw2/spark/lib/python3.8/site-packages (from arabic-reshaper) (0.18.2)\n",
            "Requirement already satisfied, skipping upgrade: setuptools in /home/amir/PycharmProjects/big data/hw2/spark/lib/python3.8/site-packages (from arabic-reshaper) (44.0.0)\n",
            "Note: you may need to restart the kernel to use updated packages.\n",
            "Requirement already satisfied: python-bidi in /home/amir/PycharmProjects/big data/hw2/spark/lib/python3.8/site-packages (0.4.2)\n",
            "Requirement already satisfied: six in /home/amir/PycharmProjects/big data/hw2/spark/lib/python3.8/site-packages (from python-bidi) (1.16.0)\n",
            "Note: you may need to restart the kernel to use updated packages.\n",
            "Reading package lists... Done\n",
            "Building dependency tree       \n",
            "Reading state information... Done\n",
            "openjdk-8-jdk-headless is already the newest version (8u312-b07-0ubuntu1~20.04).\n",
            "The following packages were automatically installed and are no longer required:\n",
            "  i965-va-driver:i386 intel-media-va-driver:i386 libaom0:i386\n",
            "  libavcodec58:i386 libavutil56:i386 libcairo-gobject2:i386 libcapi20-3\n",
            "  libcapi20-3:i386 libcodec2-0.9:i386 libdatrie1:i386 libfaudio0\n",
            "  libfaudio0:i386 libfribidi0:i386 libgdk-pixbuf2.0-0:i386 libgomp1:i386\n",
            "  libgraphite2-3:i386 libgsm1:i386 libharfbuzz0b:i386 libigdgmm11:i386\n",
            "  liblcms2-2:i386 libmp3lame0:i386 libmpg123-0:i386 libnuma1:i386\n",
            "  libopenjp2-7:i386 libpango-1.0-0:i386 libpangocairo-1.0-0:i386\n",
            "  libpangoft2-1.0-0:i386 librsvg2-2:i386 librsvg2-common:i386 libshine3:i386\n",
            "  libsnappy1v5:i386 libsoxr0:i386 libspeex1:i386 libstb0 libstb0:i386\n",
            "  libswresample3:i386 libthai0:i386 libtwolame0:i386 libva-drm2:i386\n",
            "  libva-x11-2:i386 libva2:i386 libvdpau1:i386 libvpx6:i386 libwavpack1:i386\n",
            "  libwebpmux3:i386 libx264-155:i386 libx265-179:i386 libxslt1.1:i386\n",
            "  libxvidcore4:i386 libzvbi0:i386 linux-headers-5.4.0-91\n",
            "  linux-headers-5.4.0-91-generic linux-image-5.4.0-91-generic\n",
            "  linux-modules-5.4.0-91-generic linux-modules-extra-5.4.0-91-generic\n",
            "  mesa-va-drivers:i386 mesa-vdpau-drivers:i386 va-driver-all:i386\n",
            "  vdpau-driver-all:i386\n",
            "Use 'sudo apt autoremove' to remove them.\n",
            "0 upgraded, 0 newly installed, 0 to remove and 30 not upgraded.\n"
          ]
        }
      ],
      "source": [
        "%pip install pyspark\n",
        "%pip install --upgrade arabic-reshaper\n",
        "%pip install python-bidi\n",
        "# !pip install -U -q PyDrive\n",
        "!sudo apt install openjdk-8-jdk-headless\n",
        "# !apt install openjdk-8-jdk-headless -qq(\n",
        "import os\n",
        "os.environ[\"JAVA_HOME\"] = \"/usr/lib/jvm/java-8-openjdk-amd64\""
      ]
    },
    {
      "cell_type": "markdown",
      "metadata": {},
      "source": [
        "## For correctly display persian"
      ]
    },
    {
      "cell_type": "code",
      "execution_count": 1,
      "metadata": {
        "id": "-mlEwO2gdZyw"
      },
      "outputs": [],
      "source": [
        "import arabic_reshaper\n",
        "from bidi.algorithm import get_display"
      ]
    },
    {
      "cell_type": "markdown",
      "metadata": {
        "id": "-CJ71AKe91eh"
      },
      "source": [
        "Now we authenticate a Google Drive client to processing data\n",
        "\n",
        "**Make sure to follow the interactive instructions.**"
      ]
    },
    {
      "cell_type": "markdown",
      "metadata": {},
      "source": [
        "## if work on colab"
      ]
    },
    {
      "cell_type": "code",
      "execution_count": 4,
      "metadata": {
        "colab": {
          "base_uri": "https://localhost:8080/"
        },
        "id": "5K93ABEy9Zlo",
        "outputId": "5ff04c66-93ba-4510-9b6d-93e8fa512f9f"
      },
      "outputs": [
        {
          "name": "stdout",
          "output_type": "stream",
          "text": [
            "Mounted at /content/drive\n"
          ]
        }
      ],
      "source": [
        "from google.colab import drive\n",
        "# This will prompt for authorization.\n",
        "drive.mount('/content/drive')"
      ]
    },
    {
      "cell_type": "markdown",
      "metadata": {
        "id": "5bK7ob3k4Yd1"
      },
      "source": [
        "## Check and extract data from drive\n",
        "--------------------------------------------------"
      ]
    },
    {
      "cell_type": "code",
      "execution_count": 3,
      "metadata": {
        "id": "zLytVxyTmIK7"
      },
      "outputs": [],
      "source": [
        "base_path = '/content/drive/My Drive/Colab Notebooks/'"
      ]
    },
    {
      "cell_type": "code",
      "execution_count": 4,
      "metadata": {
        "colab": {
          "base_uri": "https://localhost:8080/"
        },
        "id": "TSTDxESwnJcv",
        "outputId": "a6fc85aa-1c4c-4676-cb2e-4f24c875b6d9"
      },
      "outputs": [
        {
          "name": "stdout",
          "output_type": "stream",
          "text": [
            "ls: cannot access '/content/drive/My Drive/Colab Notebooks/': No such file or directory\n"
          ]
        }
      ],
      "source": [
        "!ls '/content/drive/My Drive/Colab Notebooks/'"
      ]
    },
    {
      "cell_type": "code",
      "execution_count": null,
      "metadata": {
        "colab": {
          "base_uri": "https://localhost:8080/"
        },
        "id": "kLoUDlZrzoAg",
        "outputId": "5e06ca46-e6a5-43ce-ac5e-e1d06ef1dca1"
      },
      "outputs": [
        {
          "name": "stdout",
          "output_type": "stream",
          "text": [
            "Archive:  /content/drive/My Drive/Colab Notebooks/Data.zip\n",
            "replace /content/drive/My Drive/Colab Notebooks/Traffic.csv? [y]es, [n]o, [A]ll, [N]one, [r]ename: n\n"
          ]
        }
      ],
      "source": [
        "!unzip '/content/drive/My Drive/Colab Notebooks/Data.zip' -d '/content/drive/My Drive/Colab Notebooks/'"
      ]
    },
    {
      "cell_type": "markdown",
      "metadata": {
        "id": "qwtlO4_m_LbQ"
      },
      "source": [
        "the cells above, extract data which is in '/content/drive/My Drive/Test' to /content/drive/My Drive/Test/Traffic.csv  "
      ]
    },
    {
      "cell_type": "markdown",
      "metadata": {
        "id": "CRaF2A_j_nC7"
      },
      "source": [
        "## Initializing Spark and read data\n",
        "--------------------------------------------------"
      ]
    },
    {
      "cell_type": "code",
      "execution_count": 1,
      "metadata": {
        "id": "lDh957r_0snm"
      },
      "outputs": [],
      "source": [
        "from pyspark import SparkContext, SparkConf \n",
        "from pyspark.sql import SparkSession\n",
        "from pyspark.sql.types import StructType,StructField, StringType, IntegerType,TimestampType\n",
        "from pyspark.sql.functions import col,current_timestamp,to_date,hour,dayofweek\n",
        "import  pyspark.sql.functions as f\n",
        "\n",
        "spark = SparkSession \\\n",
        "    .builder \\\n",
        "    .appName(\"Spark_Processor\") \\\n",
        "    .master(\"local[*]\") \\\n",
        "    .getOrCreate()\n",
        "\n",
        "sc=spark.sparkContext\n",
        "\n",
        "sc.setLogLevel(\"WARN\")\n",
        "\n",
        "trafic_schema = StructType([ \\\n",
        "        StructField(\"DEVICE_CODE\", IntegerType(), True), \n",
        "        StructField(\"SYSTEM_ID\",IntegerType(),True), \\\n",
        "        StructField(\"ORIGINE_CAR_KEY\",IntegerType(),True), \\\n",
        "        StructField(\"FINAL_CAR_KEY\",IntegerType(),True), \\\n",
        "        StructField(\"CHECK_STATUS_KEY\", IntegerType(), True), \\\n",
        "        StructField(\"COMPANY_ID\", StringType(), True), \\\n",
        "        StructField(\"PASS_DAY_TIME\", TimestampType(), True)\n",
        "    ])"
      ]
    },
    {
      "cell_type": "code",
      "execution_count": 2,
      "metadata": {
        "colab": {
          "base_uri": "https://localhost:8080/"
        },
        "id": "CGoJ3OTX3Lz_",
        "outputId": "3fc71e6b-1f81-4521-cd4d-af7d925938f2"
      },
      "outputs": [
        {
          "name": "stdout",
          "output_type": "stream",
          "text": [
            "+-----------+---------+---------------+-------------+----------------+----------+-------------------+\n",
            "|DEVICE_CODE|SYSTEM_ID|ORIGINE_CAR_KEY|FINAL_CAR_KEY|CHECK_STATUS_KEY|COMPANY_ID|      PASS_DAY_TIME|\n",
            "+-----------+---------+---------------+-------------+----------------+----------+-------------------+\n",
            "|     200501|       81|       10477885|     10477885|               5|       161|2021-06-01 03:54:39|\n",
            "+-----------+---------+---------------+-------------+----------------+----------+-------------------+\n",
            "only showing top 1 row\n",
            "\n"
          ]
        }
      ],
      "source": [
        "trafic=spark.read.csv('Traffic.csv',header=True,schema=trafic_schema)\n",
        "trafic.show(1)"
      ]
    },
    {
      "cell_type": "markdown",
      "metadata": {},
      "source": [
        "### company schema"
      ]
    },
    {
      "cell_type": "code",
      "execution_count": 3,
      "metadata": {
        "colab": {
          "base_uri": "https://localhost:8080/"
        },
        "id": "cLek1cwZdZy3",
        "outputId": "a9dc8575-1efb-4ca8-a8c2-c1332d89b4b3"
      },
      "outputs": [
        {
          "name": "stdout",
          "output_type": "stream",
          "text": [
            "+----------+---------------+----------------+\n",
            "|COMPANY_ID|   COMPANY_NAME|ACTIVE_SYSTEM_ID|\n",
            "+----------+---------------+----------------+\n",
            "|        61|دید افزار سیستم|       [81, 102]|\n",
            "+----------+---------------+----------------+\n",
            "only showing top 1 row\n",
            "\n"
          ]
        }
      ],
      "source": [
        "company_schema = StructType([\n",
        "    StructField(\"COMPANY_ID\", IntegerType(), True),\n",
        "    StructField(\"COMPANY_NAME\", StringType(), True),\n",
        "    StructField(\"ACTIVE_SYSTEM_ID\", StringType(), True),\n",
        "])\n",
        "\n",
        "company = spark.read.csv('CompanyID.csv', header=True, schema=company_schema)\n",
        "\n",
        "company = company.withColumn(\n",
        "    'ACTIVE_SYSTEM_ID', f.split(company.ACTIVE_SYSTEM_ID, \"-\"))\n",
        "company.show(1)\n"
      ]
    },
    {
      "cell_type": "markdown",
      "metadata": {},
      "source": [
        "### system schema"
      ]
    },
    {
      "cell_type": "code",
      "execution_count": 4,
      "metadata": {
        "colab": {
          "base_uri": "https://localhost:8080/"
        },
        "id": "wlGYXL--dZy3",
        "outputId": "f1287d11-f3d2-40e6-fd6d-fc43ebedfbad"
      },
      "outputs": [
        {
          "name": "stdout",
          "output_type": "stream",
          "text": [
            "+---------+-------------------+------------------+\n",
            "|SYSTEM_ID|        SYSTEM_NAME| ACTIVE_COMPANY_ID|\n",
            "+---------+-------------------+------------------+\n",
            "|       81|محدوده ‌طرح ‌ترافیک|[61, 62, 161, 274]|\n",
            "+---------+-------------------+------------------+\n",
            "only showing top 1 row\n",
            "\n"
          ]
        }
      ],
      "source": [
        "system_schema = StructType([ \\\n",
        "        StructField(\"SYSTEM_ID\", IntegerType(), True), \n",
        "        StructField(\"SYSTEM_NAME\",StringType(),True), \\\n",
        "        StructField(\"ACTIVE_COMPANY_ID\",StringType(),True),\n",
        "    ])\n",
        "\n",
        "system = spark.read.csv('SystemID.csv', header=True, schema=system_schema)\n",
        "system = system.withColumn('ACTIVE_COMPANY_ID', f.split(system.ACTIVE_COMPANY_ID , \"-\"))\n",
        "system.show(1)\n"
      ]
    },
    {
      "cell_type": "markdown",
      "metadata": {},
      "source": [
        "### status schema"
      ]
    },
    {
      "cell_type": "code",
      "execution_count": 5,
      "metadata": {
        "colab": {
          "base_uri": "https://localhost:8080/"
        },
        "id": "WUpKW0xzdZy4",
        "outputId": "07a40eb3-7262-4403-dbb6-9936759ff8c9"
      },
      "outputs": [
        {
          "name": "stdout",
          "output_type": "stream",
          "text": [
            "+----------------+-----------------+--------------------+----------------------+----------------------+\n",
            "|CHECK_STATUS_KEY|CHECK_STATUS_CODE|   CHECK_STATUS_NAME|CHECK_STATUS_TYPE_CODE|CHECK_STATUS_TYPE_NAME|\n",
            "+----------------+-----------------+--------------------+----------------------+----------------------+\n",
            "|               5|                5|اتوماتيک اپراتوري...|                     2|              اتوماتيک|\n",
            "+----------------+-----------------+--------------------+----------------------+----------------------+\n",
            "only showing top 1 row\n",
            "\n"
          ]
        }
      ],
      "source": [
        "check_status_schema = StructType([\n",
        "    StructField(\"CHECK_STATUS_KEY\", IntegerType(), True),\n",
        "    StructField(\"CHECK_STATUS_CODE\", IntegerType(), True),\n",
        "    StructField(\"CHECK_STATUS_NAME\", StringType(), True),\n",
        "    StructField(\"CHECK_STATUS_TYPE_CODE\", IntegerType(), True),\n",
        "    StructField(\"CHECK_STATUS_TYPE_NAME\", StringType(), True),\n",
        "])\n",
        "\n",
        "check_status = spark.read.csv('checkstatus.csv', header=True, schema=check_status_schema)\n",
        "check_status.show(1)\n"
      ]
    },
    {
      "cell_type": "markdown",
      "metadata": {
        "id": "M5gx4JAJ1ivY"
      },
      "source": [
        "--------------------------------------------------\n",
        "Good Luck!"
      ]
    },
    {
      "cell_type": "markdown",
      "metadata": {
        "id": "46UdD6hfdZy5"
      },
      "source": [
        "# Visualize some data\n"
      ]
    },
    {
      "cell_type": "markdown",
      "metadata": {
        "id": "8B_-fjG9dZy5"
      },
      "source": [
        "## how many company work on different systems?"
      ]
    },
    {
      "cell_type": "code",
      "execution_count": null,
      "metadata": {
        "colab": {
          "base_uri": "https://localhost:8080/",
          "height": 438
        },
        "id": "Yg2Sr5uqdZy5",
        "outputId": "9010b0d7-1548-4efe-cc09-d022e21c7b4c"
      },
      "outputs": [
        {
          "data": {
            "text/plain": [
              "<matplotlib.axes._subplots.AxesSubplot at 0x7f2b07b1cf90>"
            ]
          },
          "execution_count": 11,
          "metadata": {},
          "output_type": "execute_result"
        },
        {
          "data": {
            "image/png": "[encoded data removed]",
            "text/plain": [
              "<Figure size 432x288 with 1 Axes>"
            ]
          },
          "metadata": {},
          "output_type": "display_data"
        }
      ],
      "source": [
        "pd = system.select(system.SYSTEM_NAME, f.size(system.ACTIVE_COMPANY_ID).alias('COMPANIES_LENGTH')).toPandas()\n",
        "pd['SYSTEM_NAME'] = pd['SYSTEM_NAME'].apply(lambda x : get_display(arabic_reshaper.reshape(x)))\n",
        "pd.plot(kind= 'bar', x='SYSTEM_NAME', y='COMPANIES_LENGTH')"
      ]
    },
    {
      "cell_type": "markdown",
      "metadata": {
        "id": "8QM9ePaIdZy6"
      },
      "source": [
        "## how many systems any company work on it?"
      ]
    },
    {
      "cell_type": "code",
      "execution_count": null,
      "metadata": {
        "colab": {
          "base_uri": "https://localhost:8080/",
          "height": 396
        },
        "id": "YmV9Zn9mdZy6",
        "outputId": "2f33b2da-b7cd-4ed2-d1bd-076748b69263"
      },
      "outputs": [
        {
          "data": {
            "text/plain": [
              "<matplotlib.axes._subplots.AxesSubplot at 0x7f2b079f2910>"
            ]
          },
          "execution_count": 12,
          "metadata": {},
          "output_type": "execute_result"
        },
        {
          "data": {
            "image/png": "[encoded data removed]",
            "text/plain": [
              "<Figure size 432x288 with 1 Axes>"
            ]
          },
          "metadata": {},
          "output_type": "display_data"
        }
      ],
      "source": [
        "pd = company.select(company.COMPANY_NAME, f.size(company.ACTIVE_SYSTEM_ID).alias('SYSTEMS_LENGTH')).toPandas()\n",
        "pd['COMPANY_NAME'] = pd['COMPANY_NAME'].apply(lambda x : get_display(arabic_reshaper.reshape(x)))\n",
        "pd.plot(kind= 'bar', x='COMPANY_NAME', y='SYSTEMS_LENGTH')"
      ]
    },
    {
      "cell_type": "markdown",
      "metadata": {
        "id": "E27iH9ogdZy7"
      },
      "source": [
        "## how many times any company not find plate correctly ?"
      ]
    },
    {
      "cell_type": "code",
      "execution_count": 6,
      "metadata": {
        "id": "rdSeue6NdZy7"
      },
      "outputs": [],
      "source": [
        "failed_plate_in_company = trafic.filter((trafic.CHECK_STATUS_KEY != 5) & (trafic.CHECK_STATUS_KEY != 6)).groupBy(\n",
        "    'COMPANY_ID').agg({'*': 'count'}).withColumnRenamed('count(1)', 'FAILED').join(company, 'COMPANY_ID')\n"
      ]
    },
    {
      "cell_type": "code",
      "execution_count": null,
      "metadata": {
        "colab": {
          "base_uri": "https://localhost:8080/",
          "height": 394
        },
        "id": "bRRY6atEdZy7",
        "outputId": "6e44a46f-ae05-4aac-d1e6-af98497f23b1"
      },
      "outputs": [
        {
          "data": {
            "text/plain": [
              "<matplotlib.axes._subplots.AxesSubplot at 0x7f2b074d89d0>"
            ]
          },
          "execution_count": 14,
          "metadata": {},
          "output_type": "execute_result"
        },
        {
          "data": {
            "image/png": "[encoded data removed]",
            "text/plain": [
              "<Figure size 432x288 with 1 Axes>"
            ]
          },
          "metadata": {},
          "output_type": "display_data"
        }
      ],
      "source": [
        "pd = failed_plate_in_company.toPandas()\n",
        "pd['COMPANY_NAME'] = pd['COMPANY_NAME'].apply(lambda x : get_display(arabic_reshaper.reshape(x)))\n",
        "pd.plot(kind= 'bar', x='COMPANY_NAME', y='FAILED', logy=True)"
      ]
    },
    {
      "cell_type": "markdown",
      "metadata": {
        "id": "xOLlZGH8dZy8"
      },
      "source": [
        "## how many times device of a specific company not find plate correctly and go to manual check?"
      ]
    },
    {
      "cell_type": "code",
      "execution_count": null,
      "metadata": {
        "id": "JRwwhHKWdZy8"
      },
      "outputs": [],
      "source": [
        "manual_plate_in_company = trafic.filter(\n",
        "    (trafic.CHECK_STATUS_KEY == 0) | (trafic.CHECK_STATUS_KEY == 1) | (trafic.CHECK_STATUS_KEY == 2) | (trafic.CHECK_STATUS_KEY == 3) | (trafic.CHECK_STATUS_KEY == 7)).groupBy(\n",
        "    'COMPANY_ID').agg({'*': 'count'}).withColumnRenamed('count(1)', 'MANUAL').join(company, 'COMPANY_ID')\n"
      ]
    },
    {
      "cell_type": "code",
      "execution_count": null,
      "metadata": {
        "colab": {
          "base_uri": "https://localhost:8080/",
          "height": 394
        },
        "id": "sZjnTen2dZy8",
        "outputId": "a3558636-7546-492b-8d31-70d444ff7389"
      },
      "outputs": [
        {
          "data": {
            "text/plain": [
              "<matplotlib.axes._subplots.AxesSubplot at 0x7f2b07334650>"
            ]
          },
          "execution_count": 16,
          "metadata": {},
          "output_type": "execute_result"
        },
        {
          "data": {
            "image/png": "[encoded data removed]",
            "text/plain": [
              "<Figure size 432x288 with 1 Axes>"
            ]
          },
          "metadata": {},
          "output_type": "display_data"
        }
      ],
      "source": [
        "pd = manual_plate_in_company.toPandas()\n",
        "pd['COMPANY_NAME'] = pd['COMPANY_NAME'].apply(lambda x : get_display(arabic_reshaper.reshape(x)))\n",
        "pd.plot(kind= 'bar', x='COMPANY_NAME', y='MANUAL', logy=True)"
      ]
    },
    {
      "cell_type": "markdown",
      "metadata": {
        "id": "s-i29nu_dZy8"
      },
      "source": [
        "## top 5 higher failer in device "
      ]
    },
    {
      "cell_type": "code",
      "execution_count": 7,
      "metadata": {
        "id": "rjH1LHundZy9"
      },
      "outputs": [],
      "source": [
        "failed_device = trafic.filter(\n",
        "    (trafic.CHECK_STATUS_KEY == 0) | (trafic.CHECK_STATUS_KEY == 1) | (trafic.CHECK_STATUS_KEY == 2) | (trafic.CHECK_STATUS_KEY == 3) | (trafic.CHECK_STATUS_KEY == 7)).groupBy(\n",
        "    'DEVICE_CODE').agg({'*': 'count'}).withColumnRenamed('count(1)', 'FAILED')\n",
        "\n",
        "all_device_records = trafic.groupBy('DEVICE_CODE').agg(\n",
        "    {'*': 'count'}).withColumnRenamed('count(1)', 'RECORDS')\n"
      ]
    },
    {
      "cell_type": "code",
      "execution_count": 8,
      "metadata": {
        "id": "xHiiKTildZy9"
      },
      "outputs": [],
      "source": [
        "device_failer_rate = failed_device.join(all_device_records, 'DEVICE_CODE').withColumn(\n",
        "    'RATE', f.col('FAILED') / f.col('RECORDS')).sort('RATE', ascending=False, )\n"
      ]
    },
    {
      "cell_type": "code",
      "execution_count": 9,
      "metadata": {
        "id": "RQh9C0DDdZy9"
      },
      "outputs": [],
      "source": [
        "top_5_device_failer_rate = device_failer_rate.filter(device_failer_rate.RATE != 1).limit(20)"
      ]
    },
    {
      "cell_type": "code",
      "execution_count": null,
      "metadata": {
        "colab": {
          "base_uri": "https://localhost:8080/",
          "height": 344
        },
        "id": "iTPpJwlEdZy9",
        "outputId": "3fb86ebe-4a06-441f-b01a-25ca2d3641bc"
      },
      "outputs": [
        {
          "data": {
            "text/plain": [
              "<matplotlib.axes._subplots.AxesSubplot at 0x7f2b07289f50>"
            ]
          },
          "execution_count": 20,
          "metadata": {},
          "output_type": "execute_result"
        },
        {
          "data": {
            "image/png": "[encoded data removed]",
            "text/plain": [
              "<Figure size 432x288 with 1 Axes>"
            ]
          },
          "metadata": {},
          "output_type": "display_data"
        }
      ],
      "source": [
        "pd = top_5_device_failer_rate.toPandas()\n",
        "# pd['COMPANY_NAME'] = pd['COMPANY_NAME'].apply(lambda x : get_display(arabic_reshaper.reshape(x)))\n",
        "pd.plot(kind= 'bar', x='DEVICE_CODE', y='RATE',)"
      ]
    },
    {
      "cell_type": "markdown",
      "metadata": {
        "id": "mL6uHgscVKFe"
      },
      "source": [
        "## top 5 higher success in device"
      ]
    },
    {
      "cell_type": "code",
      "execution_count": 10,
      "metadata": {
        "id": "AO8Prp9WVN7P"
      },
      "outputs": [],
      "source": [
        "success_device = trafic.filter(\n",
        "    (trafic.CHECK_STATUS_KEY == 5) | (trafic.CHECK_STATUS_KEY == 6)).groupBy(\n",
        "    'DEVICE_CODE').agg({'*': 'count'}).withColumnRenamed('count(1)', 'SUCCESSED')\n"
      ]
    },
    {
      "cell_type": "code",
      "execution_count": 11,
      "metadata": {
        "id": "g1zyQVwUVcBd"
      },
      "outputs": [],
      "source": [
        "device_success_rate = success_device.join(all_device_records, 'DEVICE_CODE').withColumn(\n",
        "    'RATE', f.col('SUCCESSED') / f.col('RECORDS')).sort('RATE', ascending=False, )\n"
      ]
    },
    {
      "cell_type": "code",
      "execution_count": null,
      "metadata": {
        "id": "3G4XR-iNVoet"
      },
      "outputs": [],
      "source": [
        "top_5_device_success_rate = device_success_rate.filter(device_success_rate.RATE != 1).limit(20)"
      ]
    },
    {
      "cell_type": "code",
      "execution_count": null,
      "metadata": {
        "colab": {
          "base_uri": "https://localhost:8080/",
          "height": 344
        },
        "id": "JERLeiZoVz2H",
        "outputId": "cea3a717-c95a-48e6-b923-a5666933698a"
      },
      "outputs": [
        {
          "data": {
            "text/plain": [
              "<matplotlib.axes._subplots.AxesSubplot at 0x7f1e8ea04a10>"
            ]
          },
          "execution_count": 16,
          "metadata": {},
          "output_type": "execute_result"
        },
        {
          "data": {
            "image/png": "[encoded data removed]",
            "text/plain": [
              "<Figure size 432x288 with 1 Axes>"
            ]
          },
          "metadata": {},
          "output_type": "display_data"
        }
      ],
      "source": [
        "pd = top_5_device_success_rate.toPandas()\n",
        "# pd['COMPANY_NAME'] = pd['COMPANY_NAME'].apply(lambda x : get_display(arabic_reshaper.reshape(x)))\n",
        "pd.plot(kind= 'bar', x='DEVICE_CODE', y='RATE',)"
      ]
    },
    {
      "cell_type": "code",
      "execution_count": null,
      "metadata": {
        "colab": {
          "base_uri": "https://localhost:8080/"
        },
        "id": "bgA7_TLzV5jb",
        "outputId": "659c7817-b966-479e-b0b0-7e783260e7d9"
      },
      "outputs": [
        {
          "name": "stdout",
          "output_type": "stream",
          "text": [
            "+-------+--------------------+-----------------+-----------------+--------------------+\n",
            "|summary|         DEVICE_CODE|        SUCCESSED|          RECORDS|                RATE|\n",
            "+-------+--------------------+-----------------+-----------------+--------------------+\n",
            "|  count|                1027|             1027|             1027|                1027|\n",
            "|   mean|1.7298402739045765E7|32097.33106134372|34068.86562804284|  0.6980181408689108|\n",
            "| stddev|3.3258216458157133E7|69426.81932984333|72609.45930807617| 0.34701983514197465|\n",
            "|    min|                 100|                1|                1|0.001555209953343...|\n",
            "|    25%|              631615|              108|              418|  0.3756345177664975|\n",
            "|    50%|              810110|             1541|             1915|   0.911828505805793|\n",
            "|    75%|            22009852|            29003|            31457|  0.9720464135021097|\n",
            "|    max|           100701294|           668914|           678801|                 1.0|\n",
            "+-------+--------------------+-----------------+-----------------+--------------------+\n",
            "\n"
          ]
        }
      ],
      "source": [
        "device_success_rate.summary().show()"
      ]
    },
    {
      "cell_type": "code",
      "execution_count": null,
      "metadata": {
        "colab": {
          "base_uri": "https://localhost:8080/"
        },
        "id": "EirGwIinWdO5",
        "outputId": "9b64785c-59bb-45e7-d959-6cb7cab6c85c"
      },
      "outputs": [
        {
          "name": "stdout",
          "output_type": "stream",
          "text": [
            "+-------+--------------------+------------------+-----------------+--------------------+\n",
            "|summary|         DEVICE_CODE|            FAILED|          RECORDS|                RATE|\n",
            "+-------+--------------------+------------------+-----------------+--------------------+\n",
            "|  count|                1025|              1025|             1025|                1025|\n",
            "|   mean|1.7002625978536587E7|1975.8048780487804|34135.16780487805| 0.31037382115556733|\n",
            "| stddev|3.2875129844659973E7| 6513.568743053535| 72664.7861179641|  0.3514286590839762|\n",
            "|    min|                 100|                 1|                1|0.002895752895752...|\n",
            "|    25%|              631633|               106|              418| 0.02872531418312388|\n",
            "|    50%|              810110|               344|             1931| 0.09216858684555929|\n",
            "|    75%|            22009841|              1206|            31457|  0.6404255319148936|\n",
            "|    max|           100701291|            101540|           678801|                 1.0|\n",
            "+-------+--------------------+------------------+-----------------+--------------------+\n",
            "\n"
          ]
        }
      ],
      "source": [
        "device_failer_rate.summary().show()"
      ]
    },
    {
      "cell_type": "markdown",
      "metadata": {
        "id": "d7mrbJk9aMvV"
      },
      "source": [
        "## delete some noise"
      ]
    },
    {
      "cell_type": "markdown",
      "metadata": {
        "id": "pb6dZ8jeI0zN"
      },
      "source": [
        "### Delete with rate of success detection of device"
      ]
    },
    {
      "cell_type": "code",
      "execution_count": 12,
      "metadata": {
        "id": "yRsMbkZ3W-d3"
      },
      "outputs": [],
      "source": [
        "trafic_with_valid_device = device_success_rate.filter(\"RATE > 0.60\").select(f.col('DEVICE_CODE')).join(trafic, 'DEVICE_CODE')"
      ]
    },
    {
      "cell_type": "code",
      "execution_count": 15,
      "metadata": {
        "colab": {
          "base_uri": "https://localhost:8080/"
        },
        "id": "b2a1e6-4aRco",
        "outputId": "de36df1d-3d2a-43fd-88f4-16fe1940a778"
      },
      "outputs": [
        {
          "name": "stdout",
          "output_type": "stream",
          "text": [
            "+-----------+---------+---------------+-------------+----------------+----------+-------------------+\n",
            "|DEVICE_CODE|SYSTEM_ID|ORIGINE_CAR_KEY|FINAL_CAR_KEY|CHECK_STATUS_KEY|COMPANY_ID|      PASS_DAY_TIME|\n",
            "+-----------+---------+---------------+-------------+----------------+----------+-------------------+\n",
            "|        101|       81|       27133094|     27133094|               6|       161|2021-06-01 01:20:37|\n",
            "+-----------+---------+---------------+-------------+----------------+----------+-------------------+\n",
            "only showing top 1 row\n",
            "\n"
          ]
        }
      ],
      "source": [
        "trafic_with_valid_device.show(1)"
      ]
    },
    {
      "cell_type": "markdown",
      "metadata": {
        "id": "mAMJV3tOJNGX"
      },
      "source": [
        "### Delete with detection of plate"
      ]
    },
    {
      "cell_type": "code",
      "execution_count": 13,
      "metadata": {
        "id": "1tmMcUQAJAcG"
      },
      "outputs": [],
      "source": [
        "per_device_and_plate_count = trafic_with_valid_device.groupBy(\n",
        "    ['DEVICE_CODE', 'FINAL_CAR_KEY']\n",
        "    ).agg({'*': 'count'}\n",
        "          ).withColumnRenamed('count(1)', 'COUNT')"
      ]
    },
    {
      "cell_type": "code",
      "execution_count": 14,
      "metadata": {
        "id": "4ewfe0bAJ2jy"
      },
      "outputs": [],
      "source": [
        "per_plate_count = per_device_and_plate_count.groupBy(['FINAL_CAR_KEY']).agg({'COUNT':'sum'}).withColumnRenamed('sum(COUNT)', 'COUNT')"
      ]
    },
    {
      "cell_type": "code",
      "execution_count": null,
      "metadata": {
        "colab": {
          "base_uri": "https://localhost:8080/"
        },
        "id": "cdvMzRB-KH1x",
        "outputId": "21890f86-5fef-4bab-ecde-ade108a200c7"
      },
      "outputs": [
        {
          "name": "stdout",
          "output_type": "stream",
          "text": [
            "+-------------+-----+\n",
            "|FINAL_CAR_KEY|COUNT|\n",
            "+-------------+-----+\n",
            "|      7710124|   24|\n",
            "+-------------+-----+\n",
            "only showing top 1 row\n",
            "\n"
          ]
        }
      ],
      "source": [
        "per_plate_count.show(1)"
      ]
    },
    {
      "cell_type": "code",
      "execution_count": 15,
      "metadata": {
        "id": "rRYnYNjnKKzr"
      },
      "outputs": [],
      "source": [
        "quantiles = per_plate_count.select(f.percentile_approx('COUNT', 0.25).alias('25%'), f.percentile_approx('COUNT', 0.75).alias('75%')).rdd.collect()[0]\n"
      ]
    },
    {
      "cell_type": "code",
      "execution_count": 16,
      "metadata": {
        "id": "vAot0PreNv7I"
      },
      "outputs": [],
      "source": [
        "quantile_dis = quantiles['75%'] - quantiles['25%']"
      ]
    },
    {
      "cell_type": "code",
      "execution_count": 17,
      "metadata": {
        "id": "0SDyXZYXMpcO"
      },
      "outputs": [],
      "source": [
        "# not_outliers_plate = per_plate_count.filter((f.col('COUNT') >= quantiles['25%'] - quantile_dis) & (f.col('COUNT') <= quantiles['75%'] + quantile_dis))\n",
        "not_outliers_plate = per_plate_count.filter(f.col('COUNT') <= 100)"
      ]
    },
    {
      "cell_type": "code",
      "execution_count": 18,
      "metadata": {
        "id": "6B5YSHquTnC_"
      },
      "outputs": [],
      "source": [
        "inlier_device_and_plate_count = per_device_and_plate_count.join(not_outliers_plate.select('FINAL_CAR_KEY'), 'FINAL_CAR_KEY')"
      ]
    },
    {
      "cell_type": "code",
      "execution_count": 19,
      "metadata": {
        "colab": {
          "base_uri": "https://localhost:8080/"
        },
        "id": "6vHh8dno4-Tb",
        "outputId": "b5f797a5-68b9-448e-8e9e-753b13fd0942"
      },
      "outputs": [
        {
          "data": {
            "text/plain": [
              "DataFrame[FINAL_CAR_KEY: int, DEVICE_CODE: int, COUNT: bigint]"
            ]
          },
          "execution_count": 19,
          "metadata": {},
          "output_type": "execute_result"
        }
      ],
      "source": [
        "inlier_device_and_plate_count.persist()"
      ]
    },
    {
      "cell_type": "code",
      "execution_count": null,
      "metadata": {
        "colab": {
          "base_uri": "https://localhost:8080/"
        },
        "id": "YdkRmlbkUCxV",
        "outputId": "86297503-ba1b-4485-9a46-311ff5b583fb"
      },
      "outputs": [
        {
          "name": "stdout",
          "output_type": "stream",
          "text": [
            "+-------------+-----------+-----+\n",
            "|FINAL_CAR_KEY|DEVICE_CODE|COUNT|\n",
            "+-------------+-----------+-----+\n",
            "|      7631929|     803001|    1|\n",
            "|      7631930|   22010048|    1|\n",
            "|      7631966|     900243|    1|\n",
            "+-------------+-----------+-----+\n",
            "only showing top 3 rows\n",
            "\n"
          ]
        }
      ],
      "source": [
        "inlier_device_and_plate_count.show(3)"
      ]
    },
    {
      "cell_type": "markdown",
      "metadata": {
        "id": "Bpwlh_1Ychyk"
      },
      "source": [
        "# Filter Busy Plate and Busy Device"
      ]
    },
    {
      "cell_type": "code",
      "execution_count": 51,
      "metadata": {
        "id": "VtqbZEm6SOgA"
      },
      "outputs": [],
      "source": [
        "inlier_plate_count = inlier_device_and_plate_count.groupBy('FINAL_CAR_KEY').agg({'COUNT': 'sum'}).withColumnRenamed('sum(COUNT)', 'COUNT')"
      ]
    },
    {
      "cell_type": "code",
      "execution_count": null,
      "metadata": {
        "colab": {
          "base_uri": "https://localhost:8080/",
          "height": 542
        },
        "id": "U82iDwj3WLZl",
        "outputId": "38833d92-8c2c-445b-fa47-50b8fa0eaeaf"
      },
      "outputs": [],
      "source": [
        "inlier_plate_count.to_pandas_on_spark()['COUNT'].hist(bins=10)"
      ]
    },
    {
      "cell_type": "code",
      "execution_count": 21,
      "metadata": {
        "id": "SDdyzcMqXsL5"
      },
      "outputs": [],
      "source": [
        "inlier_busy_plate_and_device_count = inlier_plate_count.filter(f.col('COUNT') > 7).select('FINAL_CAR_KEY').join(inlier_device_and_plate_count, 'FINAL_CAR_KEY')"
      ]
    },
    {
      "cell_type": "code",
      "execution_count": 22,
      "metadata": {
        "id": "0E00TqjAe1ok"
      },
      "outputs": [],
      "source": [
        "inlier_device_count = inlier_device_and_plate_count.groupBy('DEVICE_CODE').agg({'COUNT': 'sum'}).withColumnRenamed('sum(COUNT)', 'COUNT')"
      ]
    },
    {
      "cell_type": "code",
      "execution_count": null,
      "metadata": {
        "colab": {
          "base_uri": "https://localhost:8080/",
          "height": 542
        },
        "id": "abri9SQHe9-s",
        "outputId": "74d854f5-75c8-4b4f-bc7d-4f9066ef1531"
      },
      "outputs": [],
      "source": [
        "inlier_device_count.to_pandas_on_spark()['COUNT'].hist(bins=100)"
      ]
    },
    {
      "cell_type": "code",
      "execution_count": 23,
      "metadata": {
        "id": "eQJP7Bw-fhJd"
      },
      "outputs": [],
      "source": [
        "inlier_busy_plate_and_busy_device_count = inlier_device_count.filter(f.col('COUNT') > 80000).select('DEVICE_CODE').join(inlier_busy_plate_and_device_count, 'DEVICE_CODE')"
      ]
    },
    {
      "cell_type": "code",
      "execution_count": 24,
      "metadata": {
        "colab": {
          "base_uri": "https://localhost:8080/"
        },
        "id": "VbVu1TdDCC3p",
        "outputId": "a68bb155-4757-4132-d4a7-51726d56df39"
      },
      "outputs": [
        {
          "data": {
            "text/plain": [
              "DataFrame[DEVICE_CODE: int, FINAL_CAR_KEY: int, COUNT: bigint]"
            ]
          },
          "execution_count": 24,
          "metadata": {},
          "output_type": "execute_result"
        }
      ],
      "source": [
        "inlier_busy_plate_and_busy_device_count.persist()"
      ]
    },
    {
      "cell_type": "markdown",
      "metadata": {
        "id": "Ta7gzxTUdrvv"
      },
      "source": [
        "# Collabarating Filtering On Busy Device and Busy Plate"
      ]
    },
    {
      "cell_type": "code",
      "execution_count": 25,
      "metadata": {
        "id": "DMclOHVedqnQ"
      },
      "outputs": [],
      "source": [
        "from pyspark.ml.evaluation import RegressionEvaluator\n",
        "from pyspark.ml.recommendation import ALS\n"
      ]
    },
    {
      "cell_type": "code",
      "execution_count": 56,
      "metadata": {
        "id": "qeOoOJiwd5N2"
      },
      "outputs": [],
      "source": [
        "cf_als = ALS(maxIter=5, regParam=0.01, userCol=\"FINAL_CAR_KEY\", itemCol=\"DEVICE_CODE\", ratingCol=\"COUNT\",\n",
        "          coldStartStrategy=\"drop\", nonnegative=True)"
      ]
    },
    {
      "cell_type": "code",
      "execution_count": 57,
      "metadata": {
        "id": "0HKumICxeV0D"
      },
      "outputs": [],
      "source": [
        "(cf_training, cf_test) = inlier_busy_plate_and_busy_device_count.randomSplit([0.8, 0.2])\n",
        "cf_model = cf_als.fit(cf_training)\n",
        "cf_predictions = cf_model.transform(cf_test)\n",
        "cf_evaluator = RegressionEvaluator(metricName=\"rmse\", labelCol=\"COUNT\",\n",
        "                                predictionCol=\"prediction\")\n",
        "cf_rmse = cf_evaluator.evaluate(cf_predictions)"
      ]
    },
    {
      "cell_type": "code",
      "execution_count": 64,
      "metadata": {
        "colab": {
          "base_uri": "https://localhost:8080/"
        },
        "id": "RcPo0j5nhUl0",
        "outputId": "9547e8f0-577c-42a2-f228-ea4d871bc1a3"
      },
      "outputs": [
        {
          "name": "stdout",
          "output_type": "stream",
          "text": [
            "0.928093980492795\n"
          ]
        }
      ],
      "source": [
        "print(cf_rmse)"
      ]
    },
    {
      "cell_type": "code",
      "execution_count": 65,
      "metadata": {
        "colab": {
          "base_uri": "https://localhost:8080/"
        },
        "id": "2ss7ze-CpnUM",
        "outputId": "414fef9c-698e-4b8f-e680-f4725d97c16f"
      },
      "outputs": [
        {
          "name": "stdout",
          "output_type": "stream",
          "text": [
            "+-----------+-------------+-----+----------+\n",
            "|DEVICE_CODE|FINAL_CAR_KEY|COUNT|prediction|\n",
            "+-----------+-------------+-----+----------+\n",
            "|     900101|      7632776|    1|0.50947785|\n",
            "|     900101|      7633788|    1|0.58993334|\n",
            "|     900101|      7634286|    1|0.21590677|\n",
            "|     900101|      7634731|    1|0.50947785|\n",
            "|     900101|      7638010|    1| 0.3994258|\n",
            "+-----------+-------------+-----+----------+\n",
            "only showing top 5 rows\n",
            "\n"
          ]
        }
      ],
      "source": [
        "cf_predictions.show(5)"
      ]
    },
    {
      "cell_type": "code",
      "execution_count": 66,
      "metadata": {
        "colab": {
          "base_uri": "https://localhost:8080/"
        },
        "id": "FT693eEhpsDD",
        "outputId": "4012097a-a5e7-42df-fe7a-a46078a41c25"
      },
      "outputs": [
        {
          "name": "stderr",
          "output_type": "stream",
          "text": [
            "/usr/local/lib/python3.7/dist-packages/pyspark/sql/context.py:127: FutureWarning:\n",
            "\n",
            "Deprecated in 3.0.0. Use SparkSession.builder.getOrCreate() instead.\n",
            "\n"
          ]
        }
      ],
      "source": [
        "plateRecs = cf_model.recommendForAllUsers(5)\n",
        "deviceRecs = cf_model.recommendForAllItems(5)"
      ]
    },
    {
      "cell_type": "code",
      "execution_count": 67,
      "metadata": {
        "colab": {
          "base_uri": "https://localhost:8080/"
        },
        "id": "G_tlBjPnqG_F",
        "outputId": "6910a72d-70f5-4924-eaf8-a0a231cec08f"
      },
      "outputs": [
        {
          "name": "stdout",
          "output_type": "stream",
          "text": [
            "+-------------+--------------------+\n",
            "|FINAL_CAR_KEY|     recommendations|\n",
            "+-------------+--------------------+\n",
            "|      7631979|[{900107, 1.40654...|\n",
            "|      7632011|[{900269, 0.97070...|\n",
            "|      7632045|[{900101, 0.97201...|\n",
            "|      7632064|[{900107, 1.12851...|\n",
            "|      7632140|[{900107, 5.30010...|\n",
            "+-------------+--------------------+\n",
            "only showing top 5 rows\n",
            "\n"
          ]
        }
      ],
      "source": [
        "plateRecs.show(5)"
      ]
    },
    {
      "cell_type": "code",
      "execution_count": 68,
      "metadata": {
        "colab": {
          "base_uri": "https://localhost:8080/"
        },
        "id": "5ObTbMWxqyZE",
        "outputId": "8b623c46-dab4-48f1-ee39-9dfe212262f0"
      },
      "outputs": [
        {
          "name": "stdout",
          "output_type": "stream",
          "text": [
            "+-----------+--------------------+\n",
            "|DEVICE_CODE|     recommendations|\n",
            "+-----------+--------------------+\n",
            "|   22010060|[{9634915, 9.1987...|\n",
            "|  100700820|[{62572700, 8.136...|\n",
            "|   22010040|[{8980456, 8.8010...|\n",
            "|     900101|[{8069879, 11.758...|\n",
            "|     900191|[{9580695, 10.735...|\n",
            "+-----------+--------------------+\n",
            "only showing top 5 rows\n",
            "\n"
          ]
        }
      ],
      "source": [
        "deviceRecs.show(5)"
      ]
    },
    {
      "cell_type": "code",
      "execution_count": 69,
      "metadata": {
        "colab": {
          "base_uri": "https://localhost:8080/"
        },
        "id": "yHzCbeJDfwoY",
        "outputId": "1478ed91-0464-4b0e-fe59-1b5880ad5205"
      },
      "outputs": [
        {
          "data": {
            "text/plain": [
              "[[Row(FINAL_CAR_KEY=9634915, rating=9.198719024658203),\n",
              "  Row(FINAL_CAR_KEY=13485271, rating=8.734851837158203),\n",
              "  Row(FINAL_CAR_KEY=92884364, rating=8.734851837158203),\n",
              "  Row(FINAL_CAR_KEY=85886317, rating=8.734851837158203),\n",
              "  Row(FINAL_CAR_KEY=15051326, rating=8.393802642822266)]]"
            ]
          },
          "execution_count": 69,
          "metadata": {},
          "output_type": "execute_result"
        }
      ],
      "source": [
        "deviceRecs.limit(1).select(f.collect_list('recommendations')).first()[0]"
      ]
    },
    {
      "cell_type": "code",
      "execution_count": 70,
      "metadata": {
        "colab": {
          "base_uri": "https://localhost:8080/"
        },
        "id": "dPbkmFplfYK6",
        "outputId": "e79655c5-eb4f-494a-c22d-4ce0ff847168"
      },
      "outputs": [
        {
          "data": {
            "text/plain": [
              "[[Row(DEVICE_CODE=900107, rating=1.4065438508987427),\n",
              "  Row(DEVICE_CODE=900142, rating=1.2220343351364136),\n",
              "  Row(DEVICE_CODE=900212, rating=1.1607003211975098),\n",
              "  Row(DEVICE_CODE=22010061, rating=1.1292394399642944),\n",
              "  Row(DEVICE_CODE=100700824, rating=1.0148875713348389)]]"
            ]
          },
          "execution_count": 70,
          "metadata": {},
          "output_type": "execute_result"
        }
      ],
      "source": [
        "plateRecs.limit(1).select(f.collect_list('recommendations')).first()[0]"
      ]
    },
    {
      "cell_type": "markdown",
      "metadata": {
        "id": "dt01iS_K9AqQ"
      },
      "source": [
        "# Get record with group by with 0-6 hours"
      ]
    },
    {
      "cell_type": "code",
      "execution_count": 26,
      "metadata": {
        "id": "1ZZLrKQ2xw7M"
      },
      "outputs": [],
      "source": [
        "inlier_trafic = trafic_with_valid_device.join(inlier_device_and_plate_count.select('FINAL_CAR_KEY', 'DEVICE_CODE'), ['FINAL_CAR_KEY', 'DEVICE_CODE'])"
      ]
    },
    {
      "cell_type": "code",
      "execution_count": 27,
      "metadata": {
        "colab": {
          "base_uri": "https://localhost:8080/"
        },
        "id": "1v9Dwt4vCOT6",
        "outputId": "dfc28228-9e4e-40bb-907f-6739f96415a7"
      },
      "outputs": [
        {
          "data": {
            "text/plain": [
              "DataFrame[FINAL_CAR_KEY: int, DEVICE_CODE: int, SYSTEM_ID: int, ORIGINE_CAR_KEY: int, CHECK_STATUS_KEY: int, COMPANY_ID: string, PASS_DAY_TIME: timestamp]"
            ]
          },
          "execution_count": 27,
          "metadata": {},
          "output_type": "execute_result"
        }
      ],
      "source": [
        "inlier_trafic.persist()"
      ]
    },
    {
      "cell_type": "code",
      "execution_count": 28,
      "metadata": {
        "id": "Zs0KKHoT9Hom"
      },
      "outputs": [],
      "source": [
        "\n",
        "records_per_6_hour = inlier_trafic.withColumn(\n",
        "    'DAY', f.dayofmonth('PASS_DAY_TIME')\n",
        "    ).withColumn(\n",
        "        'HOUR', f.floor(f.hour('PASS_DAY_TIME')/6)\n",
        "        ).withColumn(\n",
        "            'DAY_HOUR', f.concat(f.col('DAY'), f.lit('_'), f.col('HOUR'))\n",
        "            ).groupBy(\n",
        "                ['DEVICE_CODE', 'FINAL_CAR_KEY', 'DAY_HOUR']\n",
        "                ).agg({\"*\": \"count\"}\n",
        "                      ).withColumnRenamed('Count(1)', 'COUNT')"
      ]
    },
    {
      "cell_type": "code",
      "execution_count": 29,
      "metadata": {
        "colab": {
          "base_uri": "https://localhost:8080/"
        },
        "id": "bZi0mP8wGlL1",
        "outputId": "b9aae76c-6943-4714-d358-cefb53411ca9"
      },
      "outputs": [
        {
          "data": {
            "text/plain": [
              "DataFrame[DEVICE_CODE: int, FINAL_CAR_KEY: int, DAY_HOUR: string, COUNT: bigint]"
            ]
          },
          "execution_count": 29,
          "metadata": {},
          "output_type": "execute_result"
        }
      ],
      "source": [
        "records_per_6_hour.persist()"
      ]
    },
    {
      "cell_type": "code",
      "execution_count": 76,
      "metadata": {
        "colab": {
          "base_uri": "https://localhost:8080/"
        },
        "id": "SbAufMMVAV0j",
        "outputId": "edf5f2ff-3e7d-4781-b839-597e0c457907"
      },
      "outputs": [
        {
          "name": "stdout",
          "output_type": "stream",
          "text": [
            "+-----------+-------------+--------+-----+\n",
            "|DEVICE_CODE|FINAL_CAR_KEY|DAY_HOUR|COUNT|\n",
            "+-----------+-------------+--------+-----+\n",
            "|   22010040|      7631928|     3_2|    1|\n",
            "|   22010048|      7631930|     2_2|    1|\n",
            "+-----------+-------------+--------+-----+\n",
            "only showing top 2 rows\n",
            "\n"
          ]
        }
      ],
      "source": [
        "records_per_6_hour.show(2)"
      ]
    },
    {
      "cell_type": "code",
      "execution_count": 30,
      "metadata": {
        "id": "nkKQ5vYw8jTb"
      },
      "outputs": [],
      "source": [
        "from pyspark.ml.feature import OneHotEncoder, StringIndexer"
      ]
    },
    {
      "cell_type": "code",
      "execution_count": 31,
      "metadata": {
        "id": "B3fd73W-8lcB"
      },
      "outputs": [],
      "source": [
        "stringIndexer = StringIndexer(inputCol=\"DAY_HOUR\", outputCol=\"DAY_HOUR_INDEX\")\n",
        "indexed_records_per_6_hour = stringIndexer.fit(records_per_6_hour).transform(records_per_6_hour)\n"
      ]
    },
    {
      "cell_type": "code",
      "execution_count": 32,
      "metadata": {
        "id": "vFCs54355e9a"
      },
      "outputs": [],
      "source": [
        "plate_count_per_6_hour = indexed_records_per_6_hour.groupBy(['FINAL_CAR_KEY', 'DAY_HOUR', 'DAY_HOUR_INDEX']).agg({'COUNT': 'sum'}).withColumnRenamed('sum(COUNT)', 'COUNT')"
      ]
    },
    {
      "cell_type": "code",
      "execution_count": 33,
      "metadata": {
        "id": "zqK3DLxc6Urc"
      },
      "outputs": [],
      "source": [
        "device_count_per_6_hour = indexed_records_per_6_hour.groupBy(['DEVICE_CODE', 'DAY_HOUR', 'DAY_HOUR_INDEX']).agg({'COUNT': 'sum'}).withColumnRenamed('sum(COUNT)', 'COUNT')"
      ]
    },
    {
      "cell_type": "markdown",
      "metadata": {
        "id": "b8vKeYNMIUiR"
      },
      "source": [
        "# Colaberating Filtering Per 6 Hour"
      ]
    },
    {
      "cell_type": "markdown",
      "metadata": {
        "id": "H45VzpTH6gBT"
      },
      "source": [
        "## device"
      ]
    },
    {
      "cell_type": "code",
      "execution_count": 88,
      "metadata": {
        "id": "3NwiDhoV6h5V"
      },
      "outputs": [],
      "source": [
        "device_als = ALS(maxIter=5, regParam=0.01, userCol=\"DEVICE_CODE\", itemCol=\"DAY_HOUR_INDEX\", ratingCol=\"COUNT\",\n",
        "          coldStartStrategy=\"drop\", nonnegative=True)"
      ]
    },
    {
      "cell_type": "code",
      "execution_count": 89,
      "metadata": {
        "id": "uIB4oP6JPLVn"
      },
      "outputs": [],
      "source": [
        "(device_training, device_test) = device_count_per_6_hour.randomSplit([0.8, 0.2])"
      ]
    },
    {
      "cell_type": "code",
      "execution_count": 91,
      "metadata": {
        "id": "mxBZGxhBAZ22"
      },
      "outputs": [],
      "source": [
        "device_model = device_als.fit(device_training)\n",
        "device_predictions = device_model.transform(device_test)\n",
        "device_evaluator = RegressionEvaluator(metricName=\"rmse\", labelCol=\"COUNT\",\n",
        "                                predictionCol=\"prediction\")\n",
        "device_rmse = device_evaluator.evaluate(device_predictions)"
      ]
    },
    {
      "cell_type": "code",
      "execution_count": 92,
      "metadata": {
        "colab": {
          "base_uri": "https://localhost:8080/"
        },
        "id": "hlC87p0f7OJA",
        "outputId": "442e5c39-0566-4389-b8bf-9bd3c74805df"
      },
      "outputs": [
        {
          "name": "stdout",
          "output_type": "stream",
          "text": [
            "364.9868739209601\n"
          ]
        }
      ],
      "source": [
        "print(device_rmse)"
      ]
    },
    {
      "cell_type": "code",
      "execution_count": 93,
      "metadata": {
        "colab": {
          "base_uri": "https://localhost:8080/"
        },
        "id": "7iRAzCLz7OJN",
        "outputId": "6727a084-98ba-41c7-86e6-4e61d58efff2"
      },
      "outputs": [
        {
          "name": "stdout",
          "output_type": "stream",
          "text": [
            "+-----------+--------+--------------+-----+----------+\n",
            "|DEVICE_CODE|DAY_HOUR|DAY_HOUR_INDEX|COUNT|prediction|\n",
            "+-----------+--------+--------------+-----+----------+\n",
            "|        109|     3_2|           0.0|    5| 5.7376924|\n",
            "|        150|     3_2|           0.0|  325| 302.88794|\n",
            "|        166|     3_2|           0.0|   81|  73.37258|\n",
            "|        176|     3_2|           0.0|  261|  76.09763|\n",
            "|     200202|     3_2|           0.0|  104| 264.00897|\n",
            "+-----------+--------+--------------+-----+----------+\n",
            "only showing top 5 rows\n",
            "\n"
          ]
        }
      ],
      "source": [
        "device_predictions.show(5)"
      ]
    },
    {
      "cell_type": "code",
      "execution_count": 94,
      "metadata": {
        "colab": {
          "base_uri": "https://localhost:8080/"
        },
        "id": "b7JhPlPA7OJN",
        "outputId": "f3e8064d-3a92-47fd-d1d7-7217429932d9"
      },
      "outputs": [
        {
          "name": "stderr",
          "output_type": "stream",
          "text": [
            "/usr/local/lib/python3.7/dist-packages/pyspark/sql/context.py:127: FutureWarning:\n",
            "\n",
            "Deprecated in 3.0.0. Use SparkSession.builder.getOrCreate() instead.\n",
            "\n"
          ]
        }
      ],
      "source": [
        "device_time_recs = device_model.recommendForAllUsers(5)\n",
        "time_device_recs = device_model.recommendForAllItems(5)"
      ]
    },
    {
      "cell_type": "code",
      "execution_count": 95,
      "metadata": {
        "colab": {
          "base_uri": "https://localhost:8080/"
        },
        "id": "XmD6MYlw7OJN",
        "outputId": "083a2caf-8840-494d-d1c8-95637fd3c80f"
      },
      "outputs": [
        {
          "name": "stdout",
          "output_type": "stream",
          "text": [
            "+-----------+--------------------+\n",
            "|DEVICE_CODE|     recommendations|\n",
            "+-----------+--------------------+\n",
            "|        100|[{8, 1455.5309}, ...|\n",
            "|        101|[{0, 190.69678}, ...|\n",
            "|        102|[{5, 228.63165}, ...|\n",
            "|        103|[{1, 222.98338}, ...|\n",
            "|        104|[{2, 402.11786}, ...|\n",
            "+-----------+--------------------+\n",
            "only showing top 5 rows\n",
            "\n"
          ]
        }
      ],
      "source": [
        "device_time_recs.show(5)"
      ]
    },
    {
      "cell_type": "code",
      "execution_count": 96,
      "metadata": {
        "colab": {
          "base_uri": "https://localhost:8080/"
        },
        "id": "gDk3VAv17OJN",
        "outputId": "2a4c620f-0494-4f1e-e437-2e7d0ef1c157"
      },
      "outputs": [
        {
          "name": "stdout",
          "output_type": "stream",
          "text": [
            "+--------------+--------------------+\n",
            "|DAY_HOUR_INDEX|     recommendations|\n",
            "+--------------+--------------------+\n",
            "|            20|[{900248, 56050.9...|\n",
            "|            10|[{900244, 8840.77...|\n",
            "|            30|[{900248, 3730.73...|\n",
            "|             0|[{900248, 16444.8...|\n",
            "|            31|[{900248, 2334.64...|\n",
            "+--------------+--------------------+\n",
            "only showing top 5 rows\n",
            "\n"
          ]
        }
      ],
      "source": [
        "time_device_recs.show(5)"
      ]
    },
    {
      "cell_type": "code",
      "execution_count": null,
      "metadata": {
        "colab": {
          "base_uri": "https://localhost:8080/"
        },
        "id": "9bvzftnS7OJO",
        "outputId": "1478ed91-0464-4b0e-fe59-1b5880ad5205"
      },
      "outputs": [
        {
          "data": {
            "text/plain": [
              "[[Row(FINAL_CAR_KEY=9634915, rating=9.198719024658203),\n",
              "  Row(FINAL_CAR_KEY=13485271, rating=8.734851837158203),\n",
              "  Row(FINAL_CAR_KEY=92884364, rating=8.734851837158203),\n",
              "  Row(FINAL_CAR_KEY=85886317, rating=8.734851837158203),\n",
              "  Row(FINAL_CAR_KEY=15051326, rating=8.393802642822266)]]"
            ]
          },
          "execution_count": 69,
          "metadata": {},
          "output_type": "execute_result"
        }
      ],
      "source": [
        "device_time_recs.limit(1).select(f.collect_list('recommendations')).first()[0]"
      ]
    },
    {
      "cell_type": "code",
      "execution_count": 97,
      "metadata": {
        "colab": {
          "base_uri": "https://localhost:8080/"
        },
        "id": "7jSTlC-h7OJO",
        "outputId": "9c7975f0-fb95-46db-849d-978b9488ca2c"
      },
      "outputs": [
        {
          "data": {
            "text/plain": [
              "[[Row(DEVICE_CODE=900248, rating=56050.93359375),\n",
              "  Row(DEVICE_CODE=22010060, rating=8180.16796875),\n",
              "  Row(DEVICE_CODE=900244, rating=7927.9677734375),\n",
              "  Row(DEVICE_CODE=900212, rating=7851.859375),\n",
              "  Row(DEVICE_CODE=100701267, rating=7393.12060546875)]]"
            ]
          },
          "execution_count": 97,
          "metadata": {},
          "output_type": "execute_result"
        }
      ],
      "source": [
        "time_device_recs.limit(1).select(f.collect_list('recommendations')).first()[0]"
      ]
    },
    {
      "cell_type": "markdown",
      "metadata": {
        "id": "bVrZ6n8-BeH4"
      },
      "source": [
        "## plate\n"
      ]
    },
    {
      "cell_type": "code",
      "execution_count": 98,
      "metadata": {
        "id": "GAjaSI2aBgAp"
      },
      "outputs": [],
      "source": [
        "plate_als = ALS(maxIter=5, regParam=0.01, userCol=\"FINAL_CAR_KEY\", itemCol=\"DAY_HOUR_INDEX\", ratingCol=\"COUNT\",\n",
        "          coldStartStrategy=\"drop\", nonnegative=True)"
      ]
    },
    {
      "cell_type": "code",
      "execution_count": 99,
      "metadata": {
        "id": "DmcOzeDfBgAq"
      },
      "outputs": [],
      "source": [
        "(plate_training, plate_test) = plate_count_per_6_hour.randomSplit([0.8, 0.2])"
      ]
    },
    {
      "cell_type": "code",
      "execution_count": 100,
      "metadata": {
        "id": "xgF-8TkRBgAr"
      },
      "outputs": [],
      "source": [
        "plate_model = plate_als.fit(plate_training)\n",
        "plate_predictions = plate_model.transform(plate_test)\n",
        "plate_evaluator = RegressionEvaluator(metricName=\"rmse\", labelCol=\"COUNT\",\n",
        "                                predictionCol=\"prediction\")\n",
        "plate_rmse = plate_evaluator.evaluate(plate_predictions)"
      ]
    },
    {
      "cell_type": "code",
      "execution_count": 101,
      "metadata": {
        "colab": {
          "base_uri": "https://localhost:8080/"
        },
        "id": "I3qGfoiZBgAs",
        "outputId": "9386a184-6db5-4905-f82b-1c6a54cbb714"
      },
      "outputs": [
        {
          "name": "stdout",
          "output_type": "stream",
          "text": [
            "1.3173152177943186\n"
          ]
        }
      ],
      "source": [
        "print(plate_rmse)"
      ]
    },
    {
      "cell_type": "code",
      "execution_count": 102,
      "metadata": {
        "colab": {
          "base_uri": "https://localhost:8080/"
        },
        "id": "oDUx_QocBgAs",
        "outputId": "5c360327-391a-4357-aeb2-841e14cd3205"
      },
      "outputs": [
        {
          "name": "stdout",
          "output_type": "stream",
          "text": [
            "+-------------+--------+--------------+-----+----------+\n",
            "|FINAL_CAR_KEY|DAY_HOUR|DAY_HOUR_INDEX|COUNT|prediction|\n",
            "+-------------+--------+--------------+-----+----------+\n",
            "|      7632270|     8_2|           1.0|    2|0.95067245|\n",
            "|      7633317|     8_2|           1.0|    4| 1.1538409|\n",
            "|      7634045|     8_2|           1.0|    1| 0.5796012|\n",
            "|      7634400|     8_2|           1.0|    1|0.68405986|\n",
            "|      7634515|     8_2|           1.0|    1| 4.1283503|\n",
            "+-------------+--------+--------------+-----+----------+\n",
            "only showing top 5 rows\n",
            "\n"
          ]
        }
      ],
      "source": [
        "plate_predictions.show(5)"
      ]
    },
    {
      "cell_type": "code",
      "execution_count": 103,
      "metadata": {
        "colab": {
          "base_uri": "https://localhost:8080/"
        },
        "id": "l7mevnLeBgAt",
        "outputId": "307b3f0e-8ebd-45b8-99d6-0a24164d1d52"
      },
      "outputs": [
        {
          "name": "stderr",
          "output_type": "stream",
          "text": [
            "/usr/local/lib/python3.7/dist-packages/pyspark/sql/context.py:127: FutureWarning:\n",
            "\n",
            "Deprecated in 3.0.0. Use SparkSession.builder.getOrCreate() instead.\n",
            "\n"
          ]
        }
      ],
      "source": [
        "plate_time_recs = plate_model.recommendForAllUsers(5)\n",
        "time_plate_recs = plate_model.recommendForAllItems(5)"
      ]
    },
    {
      "cell_type": "code",
      "execution_count": 104,
      "metadata": {
        "colab": {
          "base_uri": "https://localhost:8080/"
        },
        "id": "xmN8ZmxHBgAt",
        "outputId": "5bbd4dd5-f21f-404f-e5d5-6ae2b673b5ad"
      },
      "outputs": [
        {
          "name": "stdout",
          "output_type": "stream",
          "text": [
            "+-------------+--------------------+\n",
            "|FINAL_CAR_KEY|     recommendations|\n",
            "+-------------+--------------------+\n",
            "|      7631929|[{15, 0.9930656},...|\n",
            "|      7632011|[{15, 1.0628116},...|\n",
            "|      7632045|[{0, 1.9781028}, ...|\n",
            "|      7632196|[{10, 4.867158}, ...|\n",
            "|      7632206|[{15, 1.9861312},...|\n",
            "+-------------+--------------------+\n",
            "only showing top 5 rows\n",
            "\n"
          ]
        }
      ],
      "source": [
        "plate_time_recs.show(5)"
      ]
    },
    {
      "cell_type": "code",
      "execution_count": 105,
      "metadata": {
        "colab": {
          "base_uri": "https://localhost:8080/"
        },
        "id": "R04dVdmEBgAu",
        "outputId": "3b2057c2-6e72-4aff-9030-82f70a023704"
      },
      "outputs": [
        {
          "name": "stdout",
          "output_type": "stream",
          "text": [
            "+--------------+--------------------+\n",
            "|DAY_HOUR_INDEX|     recommendations|\n",
            "+--------------+--------------------+\n",
            "|            20|[{11784094, 18.39...|\n",
            "|            10|[{68490760, 10.83...|\n",
            "|            30|[{18088947, 10.79...|\n",
            "|             0|[{100193539, 15.3...|\n",
            "|            31|[{89076761, 10.74...|\n",
            "+--------------+--------------------+\n",
            "only showing top 5 rows\n",
            "\n"
          ]
        }
      ],
      "source": [
        "time_plate_recs.show(5)"
      ]
    },
    {
      "cell_type": "code",
      "execution_count": 106,
      "metadata": {
        "colab": {
          "base_uri": "https://localhost:8080/"
        },
        "id": "C9jMPQWhBgAu",
        "outputId": "9f784391-a5fb-4a13-c8e8-3ff55679d584"
      },
      "outputs": [
        {
          "data": {
            "text/plain": [
              "[[Row(DAY_HOUR_INDEX=15, rating=0.993065595626831),\n",
              "  Row(DAY_HOUR_INDEX=18, rating=0.5740599036216736),\n",
              "  Row(DAY_HOUR_INDEX=20, rating=0.5441305041313171),\n",
              "  Row(DAY_HOUR_INDEX=5, rating=0.4835950434207916),\n",
              "  Row(DAY_HOUR_INDEX=7, rating=0.4803718328475952)]]"
            ]
          },
          "execution_count": 106,
          "metadata": {},
          "output_type": "execute_result"
        }
      ],
      "source": [
        "plate_time_recs.limit(1).select(f.collect_list('recommendations')).first()[0]"
      ]
    },
    {
      "cell_type": "code",
      "execution_count": 107,
      "metadata": {
        "colab": {
          "base_uri": "https://localhost:8080/"
        },
        "id": "jY7MBw8SBgAv",
        "outputId": "80044293-ef71-4e19-f159-9e7395428658"
      },
      "outputs": [
        {
          "data": {
            "text/plain": [
              "[[Row(FINAL_CAR_KEY=11784094, rating=18.393863677978516),\n",
              "  Row(FINAL_CAR_KEY=19013961, rating=17.806194305419922),\n",
              "  Row(FINAL_CAR_KEY=86468138, rating=17.806194305419922),\n",
              "  Row(FINAL_CAR_KEY=11111324, rating=16.962234497070312),\n",
              "  Row(FINAL_CAR_KEY=92327635, rating=16.791643142700195)]]"
            ]
          },
          "execution_count": 107,
          "metadata": {},
          "output_type": "execute_result"
        }
      ],
      "source": [
        "time_plate_recs.limit(1).select(f.collect_list('recommendations')).first()[0]"
      ]
    },
    {
      "cell_type": "markdown",
      "metadata": {
        "id": "8RkAyJm3UfJc"
      },
      "source": [
        "# Utility Matrix (each plate count each device)"
      ]
    },
    {
      "cell_type": "code",
      "execution_count": 34,
      "metadata": {
        "id": "IEM1ZhidtaVO"
      },
      "outputs": [],
      "source": [
        "from pyspark.mllib.linalg import Vectors, SparseVector"
      ]
    },
    {
      "cell_type": "code",
      "execution_count": 35,
      "metadata": {
        "id": "MqaPrW4YaCKK"
      },
      "outputs": [],
      "source": [
        "stringIndexer = StringIndexer(inputCol=\"DEVICE_CODE\", outputCol=\"DEVICE_CODE_INDEX\")\n",
        "indexed_inlier_busy_plate_and_busy_device_count = stringIndexer.fit(inlier_busy_plate_and_busy_device_count).transform(inlier_busy_plate_and_busy_device_count)\n"
      ]
    },
    {
      "cell_type": "code",
      "execution_count": 36,
      "metadata": {
        "id": "2P2Bupo1a7Z4"
      },
      "outputs": [],
      "source": [
        "indexed_inlier_busy_plate_and_busy_device_count_with_map = indexed_inlier_busy_plate_and_busy_device_count.withColumn('DEVICE_COUNT_MAP', f.create_map('DEVICE_CODE_INDEX', 'COUNT'))"
      ]
    },
    {
      "cell_type": "code",
      "execution_count": 37,
      "metadata": {
        "id": "W7HaG7uYdHsO"
      },
      "outputs": [],
      "source": [
        "busy_plate_device_count_with_map = indexed_inlier_busy_plate_and_busy_device_count_with_map.groupBy('FINAL_CAR_KEY').agg(f.collect_list('DEVICE_COUNT_MAP').alias('DEVICE_COUNT_VECTOR'))\n",
        "# busy_plate_device_count_with_map = indexed_inlier_busy_plate_and_busy_device_count_with_map.groupBy('FINAL_CAR_KEY').agg(\"values\", lit(0.0), lambda acc, x: acc + x)"
      ]
    },
    {
      "cell_type": "code",
      "execution_count": 38,
      "metadata": {
        "id": "4v2UO-OzUgFQ"
      },
      "outputs": [],
      "source": [
        "busy_devices_count = inlier_busy_plate_and_busy_device_count.select('DEVICE_CODE').distinct().count()"
      ]
    },
    {
      "cell_type": "code",
      "execution_count": 39,
      "metadata": {
        "id": "vZ6isYmYz8fG"
      },
      "outputs": [],
      "source": [
        "from collections import ChainMap\n",
        "from pyspark.sql import Row"
      ]
    },
    {
      "cell_type": "code",
      "execution_count": 40,
      "metadata": {
        "id": "SVqjXuThe7xQ"
      },
      "outputs": [],
      "source": [
        "plate_utility_matrix = busy_plate_device_count_with_map.rdd.map(lambda x: Row(\n",
        "        FINAL_CAR_KEY=x['FINAL_CAR_KEY'], DEVICE_COUNT_VECTOR=Vectors.sparse(busy_devices_count, dict(ChainMap(*x['DEVICE_COUNT_VECTOR'])))\n",
        ")).toDF()\n"
      ]
    },
    {
      "cell_type": "code",
      "execution_count": 41,
      "metadata": {
        "colab": {
          "base_uri": "https://localhost:8080/"
        },
        "id": "H9caJAtm1taP",
        "outputId": "ec7201b6-e900-4a25-fa14-255725d7d068"
      },
      "outputs": [
        {
          "data": {
            "text/plain": [
              "DataFrame[FINAL_CAR_KEY: bigint, DEVICE_COUNT_VECTOR: vector]"
            ]
          },
          "execution_count": 41,
          "metadata": {},
          "output_type": "execute_result"
        }
      ],
      "source": [
        "plate_utility_matrix.persist()"
      ]
    },
    {
      "cell_type": "code",
      "execution_count": 42,
      "metadata": {
        "id": "SMTGkLC3rdFk"
      },
      "outputs": [],
      "source": [
        "from pyspark.mllib.linalg.distributed import RowMatrix"
      ]
    },
    {
      "cell_type": "code",
      "execution_count": 43,
      "metadata": {
        "id": "XK8eLvt7sK6m"
      },
      "outputs": [],
      "source": [
        "plate_mat = RowMatrix(plate_utility_matrix.select('DEVICE_COUNT_VECTOR'))"
      ]
    },
    {
      "cell_type": "code",
      "execution_count": 44,
      "metadata": {
        "id": "ajWGsWyKsklR"
      },
      "outputs": [],
      "source": [
        "plate_svd = plate_mat.computeSVD(5,  computeU=True)"
      ]
    },
    {
      "cell_type": "code",
      "execution_count": 45,
      "metadata": {
        "id": "vddTH-_Av9wM"
      },
      "outputs": [],
      "source": [
        "plate_U = plate_svd.U\n",
        "plate_s = plate_svd.s\n",
        "plate_V = plate_svd.V"
      ]
    },
    {
      "cell_type": "code",
      "execution_count": null,
      "metadata": {
        "id": "Liy7qcPWwYMk"
      },
      "outputs": [],
      "source": [
        "plate_U.rows.collect()\n"
      ]
    },
    {
      "cell_type": "code",
      "execution_count": 46,
      "metadata": {},
      "outputs": [
        {
          "data": {
            "text/plain": [
              "[DenseVector([-1.829, -0.0784, -1.1345, -2.2972, 0.4362]),\n",
              " DenseVector([-2.6857, -0.2277, -0.3386, -4.7483, -0.4922]),\n",
              " DenseVector([-1.8349, -0.0534, -0.9623, -1.5227, 0.6196]),\n",
              " DenseVector([-1.1463, 0.0555, -1.3648, -0.2839, 1.811]),\n",
              " DenseVector([-0.9316, -0.0912, 0.1795, -1.117, -0.1201])]"
            ]
          },
          "execution_count": 46,
          "metadata": {},
          "output_type": "execute_result"
        }
      ],
      "source": [
        "plate_mat.multiply(plate_V).rows.take(5)"
      ]
    },
    {
      "cell_type": "markdown",
      "metadata": {
        "id": "5qVxu9MWxDEZ"
      },
      "source": [
        "# Clustering"
      ]
    },
    {
      "cell_type": "code",
      "execution_count": 47,
      "metadata": {},
      "outputs": [],
      "source": [
        "from pyspark.ml.clustering import LDA\n",
        "from pyspark.ml.linalg import Vectors as MlVectors\n",
        "from pyspark.ml.feature import VectorAssembler\n",
        "\n",
        "lda = LDA(k=10, maxIter=5, featuresCol='DEVICE_COUNT_VECTOR')"
      ]
    },
    {
      "cell_type": "code",
      "execution_count": 48,
      "metadata": {
        "colab": {
          "base_uri": "https://localhost:8080/",
          "height": 374
        },
        "id": "gvX3FYU9xEQ1",
        "outputId": "af09e628-ed38-4aa5-d2a5-c06fbc9607f9"
      },
      "outputs": [],
      "source": [
        "\n",
        "# assembler = VectorAssembler(inputCols=['DEVICE_VECTOR'], outputCol='features')\n",
        "# assembler.transform(plate_utility_matrix)\n",
        "# x = plate_utility_matrix.withColumn('DEVICE_VECTOR', f.col('DEVICE_VECTOR').cast(\"array<float>\"))\n",
        "# plate_utility_matrix_df = plate_utility_matrix.toDF()\n",
        "plate_utility_matrix_with_mlVectors = plate_utility_matrix.rdd.map(lambda x: Row(FINAL_CAR_KEY=x['FINAL_CAR_KEY'], DEVICE_COUNT_VECTOR=MlVectors.sparse(\n",
        "    x['DEVICE_COUNT_VECTOR'].size, x['DEVICE_COUNT_VECTOR'].indices, x['DEVICE_COUNT_VECTOR'].values))).toDF()\n",
        "\n"
      ]
    },
    {
      "cell_type": "code",
      "execution_count": 49,
      "metadata": {},
      "outputs": [
        {
          "data": {
            "text/plain": [
              "DataFrame[FINAL_CAR_KEY: bigint, DEVICE_COUNT_VECTOR: vector]"
            ]
          },
          "execution_count": 49,
          "metadata": {},
          "output_type": "execute_result"
        }
      ],
      "source": [
        "plate_utility_matrix_with_mlVectors.persist()"
      ]
    },
    {
      "cell_type": "code",
      "execution_count": 99,
      "metadata": {},
      "outputs": [],
      "source": [
        "model = lda.fit(plate_utility_matrix_with_mlVectors)"
      ]
    },
    {
      "cell_type": "code",
      "execution_count": 100,
      "metadata": {
        "id": "OMnFk-4oxsiT"
      },
      "outputs": [
        {
          "name": "stdout",
          "output_type": "stream",
          "text": [
            "The lower bound on the log likelihood of the entire corpus: -68044000.99426512\n",
            "The upper bound on perplexity: 4.310353901072624\n"
          ]
        }
      ],
      "source": [
        "\n",
        "ll = model.logLikelihood(plate_utility_matrix_with_mlVectors)\n",
        "lp = model.logPerplexity(plate_utility_matrix_with_mlVectors)\n",
        "print(\"The lower bound on the log likelihood of the entire corpus: \" + str(ll))\n",
        "print(\"The upper bound on perplexity: \" + str(lp))\n"
      ]
    },
    {
      "cell_type": "code",
      "execution_count": 101,
      "metadata": {
        "id": "GKpTkpivxHCd"
      },
      "outputs": [
        {
          "name": "stdout",
          "output_type": "stream",
          "text": [
            "The topics described by their top-weighted terms:\n",
            "+-----+------------+-----------------------------------------------------------------+\n",
            "|topic|termIndices |termWeights                                                      |\n",
            "+-----+------------+-----------------------------------------------------------------+\n",
            "|0    |[29, 31, 77]|[0.11278928386796964, 0.06652257260758794, 0.0510834617065735]   |\n",
            "|1    |[50, 6, 44] |[0.08104993481087515, 0.07981168004141447, 0.07886686633510898]  |\n",
            "|2    |[20, 22, 2] |[0.06523690786290343, 0.06099143109602727, 0.054326890631855265] |\n",
            "|3    |[13, 10, 21]|[0.10518356452305946, 0.0783393909506504, 0.07429877927997683]   |\n",
            "|4    |[19, 56, 15]|[0.07372709442849014, 0.058256565206525175, 0.043352831128355036]|\n",
            "|5    |[12, 32, 48]|[0.05904703211010143, 0.048336879322356203, 0.036038139679011046]|\n",
            "|6    |[14, 46, 4] |[0.0940585079805429, 0.07566872043018434, 0.06477074912532642]   |\n",
            "|7    |[2, 91, 0]  |[0.0659335455904868, 0.06074148998660858, 0.059910580404821175]  |\n",
            "|8    |[82, 9, 25] |[0.05698778193201196, 0.05324873663061491, 0.05153119481655396]  |\n",
            "|9    |[0, 1, 3]   |[0.1618655286529085, 0.16032221038333144, 0.06862995754457359]   |\n",
            "+-----+------------+-----------------------------------------------------------------+\n",
            "\n"
          ]
        }
      ],
      "source": [
        "# Describe topics.\n",
        "topics = model.describeTopics(3)\n",
        "print(\"The topics described by their top-weighted terms:\")\n",
        "topics.show(truncate=False)\n"
      ]
    },
    {
      "cell_type": "code",
      "execution_count": 102,
      "metadata": {
        "id": "EF_vgQ5OxwRy"
      },
      "outputs": [
        {
          "name": "stdout",
          "output_type": "stream",
          "text": [
            "+-------------+-------------------------------------------------------------------------------------------------------------------------------------------------+--------------------------------------------------------------------------------------------------------------------------------------------------------------------------------------------------------------------+\n",
            "|FINAL_CAR_KEY|DEVICE_COUNT_VECTOR                                                                                                                              |topicDistribution                                                                                                                                                                                                   |\n",
            "+-------------+-------------------------------------------------------------------------------------------------------------------------------------------------+--------------------------------------------------------------------------------------------------------------------------------------------------------------------------------------------------------------------+\n",
            "|7632475      |(126,[2,7,18,30,57,58,89],[2.0,2.0,7.0,1.0,5.0,1.0,4.0])                                                                                         |[0.004267202402849237,0.004276627005216536,0.004263769684142401,0.004260592236168842,0.004288616651067465,0.431152586449627,0.004253261663677748,0.5347417301164665,0.004240150792199164,0.004255462998585134]      |\n",
            "|7632620      |(126,[2,5,7,18,33,57,58],[5.0,3.0,4.0,1.0,1.0,1.0,2.0])                                                                                          |[0.00545370362916674,0.005465499474962528,0.3811798375209523,0.005445269863766182,0.00548108044187987,0.005465580368145402,0.005436247897640375,0.5752146246677284,0.005419365813713047,0.005438790322045149]       |\n",
            "|7633157      |(126,[2,9,11,12,13,14,16,26,27,36,44,57,66,89,109,111],[1.0,1.0,2.0,1.0,1.0,1.0,1.0,2.0,2.0,1.0,1.0,3.0,1.0,1.0,1.0,1.0])                        |[0.004461732473245265,0.34307369630292844,0.004456941192197228,0.004455519668529254,0.004484134901112755,0.004471809884245104,0.004447821670280793,0.6212659158127176,0.004433248678451141,0.004449179416292506]    |\n",
            "|7634784      |(126,[8,10,11,14,39,49,86],[4.0,2.0,1.0,1.0,2.0,1.0,1.0])                                                                                        |[0.0075606750794571225,0.7787084162572188,0.007547477979587479,0.16086286794873217,0.007593092186347802,0.007573204505358019,0.007531605907489965,0.0075798648813728536,0.007508440207664246,0.007534355046771457]  |\n",
            "|7637338      |(126,[5,25,26,36,57,62],[1.0,2.0,1.0,1.0,1.0,2.0])                                                                                               |[0.010919388035670009,0.010943323227096374,0.01090795481730922,0.01090243450286351,0.010974112691340344,0.010942760901262923,0.9017120925288373,0.010958306328610272,0.010850086237449392,0.010889540729560715]     |\n",
            "|7637807      |(126,[6,8,11,27,28,39,47,63,91],[1.0,1.0,1.0,1.0,1.0,1.0,1.0,1.0,1.0])                                                                           |[0.009825594050568657,0.5088798127149313,0.009815600135148648,0.009811295818403357,0.00987505100467378,0.4125773502048559,0.009792977185061195,0.009861570962035958,0.009761943619888771,0.009798804304432501]      |\n",
            "|7638053      |(126,[12,19,35,51,70,90,97,100],[1.0,1.0,2.0,1.0,2.0,1.0,1.0,1.0])                                                                               |[0.008931189981043839,0.0089524858558079,0.00892195542503407,0.19551558079559866,0.7330862076612561,0.008952035208299637,0.008901096069835659,0.008960014454469312,0.008872839718577698,0.008906594830076924]       |\n",
            "|7638408      |(126,[12,32,35,42,44,56,61,70,91,97,109],[1.0,2.0,1.0,2.0,2.0,1.0,1.0,1.0,1.0,12.0,1.0])                                                         |[0.0037744260066507485,0.17261372737456832,0.0037704246873495723,0.003769378631574216,0.5468344246183381,0.2541742093294704,0.0037619112706472582,0.0037874106789227715,0.0037499042668847856,0.0037641831355937896]|\n",
            "|7639680      |(126,[0,1,7,9,13,16,17,21,26,27,32,36,37,38,41,45,48,59,95],[6.0,6.0,1.0,5.0,1.0,2.0,5.0,1.0,7.0,1.0,3.0,4.0,2.0,1.0,1.0,1.0,1.0,1.0,1.0])       |[0.001923629804347606,0.001927663467208321,0.0019215718889729323,0.0019211085501472278,0.0019334480782779676,0.07294232992060183,0.28727315943935267,0.2535442829687375,0.1262173510939598,0.2503954547883942]      |\n",
            "|7640502      |(126,[8,34,39,43,52,63,67,70,78,79,84,104,110,116],[1.0,1.0,2.0,1.0,1.0,2.0,1.0,1.0,1.0,1.0,1.0,1.0,1.0,1.0])                                    |[0.005777888370591022,0.0057888360366709305,0.005769431624220486,0.005766498423559076,0.005804758408846508,0.8103495511156057,0.005757183750006891,0.005794152861786997,0.005738681846478793,0.14345301756223347]   |\n",
            "|7640548      |(126,[13,15,19,23,39,42,52,56,63,75,78,80,96],[2.0,2.0,1.0,1.0,3.0,1.0,1.0,1.0,2.0,1.0,1.0,1.0,1.0])                                             |[0.005166537886825678,0.00517874401294922,0.005161317671034054,0.43569989521069646,0.5229959952039103,0.005179571239518645,0.0051493748415372825,0.005183158224999349,0.005132986538563198,0.005152419169965861]    |\n",
            "|7641037      |(126,[6,8,9,10,13,16,21,26,33,39,63,70,71],[1.0,4.0,2.0,2.0,1.0,1.0,2.0,1.0,1.0,3.0,1.0,1.0,2.0])                                                |[0.004267482025092823,0.5377162881266971,0.004263031381142675,0.28648178776506383,0.0042890585187834,0.004277099518127031,0.004253691667075619,0.004281489964353205,0.14591449432357181,0.004255576710092728]       |\n",
            "|7643083      |(126,[12,15,19,22,31,35,39,56,79,80,93],[1.0,1.0,1.0,3.0,1.0,4.0,2.0,1.0,2.0,2.0,1.0])                                                           |[0.004909968174271197,0.004919195800019987,0.5092123111913938,0.1291912692783089,0.3272597545993181,0.004919920851133718,0.004892082702098117,0.00492376466340185,0.004876845319002995,0.004894887421051519]        |\n",
            "|7645253      |(126,[0,1,3,4,5,6,10,11,21,24,33,42,44,50,54,70,79,84,106,120],[6.0,6.0,3.0,3.0,1.0,3.0,2.0,1.0,2.0,1.0,1.0,3.0,1.0,1.0,1.0,3.0,1.0,1.0,1.0,1.0])|[0.002281680331413886,0.33261096300904097,0.002279322764214312,0.06273133632077581,0.002293265250304971,0.0022870436479160527,0.00227422900292522,0.002289283998329135,0.002267079089727774,0.5886857965853517]     |\n",
            "|7646226      |(126,[0,2,3,4,5,6,14,29,36,44,62,68,80,82,88,114,118,121],[1.0,3.0,5.0,2.0,1.0,1.0,1.0,2.0,2.0,1.0,1.0,1.0,1.0,5.0,1.0,14.0,1.0,1.0])            |[0.05444150816836257,0.0021855850499579214,0.0021778357491201196,0.0021772150834934757,0.0021918665058915454,0.002184803867475592,0.13383391587631355,0.0021872636263839443,0.796445679279448,0.002174326793553419] |\n",
            "|7646886      |(126,[22,67,93,97,116,119,122],[1.0,2.0,1.0,1.0,2.0,1.0,1.0])                                                                                    |[0.009826050258711071,0.009846472155797724,0.17674488538329697,0.2784539255650857,0.009875947244631804,0.009846931716770795,0.009792753789600766,0.009856844798355958,0.009761546239995122,0.47599464284775417]     |\n",
            "|7647554      |(126,[5,26,33,57,58,60,69,89],[3.0,1.0,2.0,1.0,1.0,1.0,2.0,1.0])                                                                                 |[0.0075545316032824845,0.007572535561267731,0.0075468965968820525,0.007542815941543356,0.007592600572610106,0.007571261910958393,0.007530378064689257,0.9320489311072849,0.0075062176604190145,0.007533830981062727]|\n",
            "|7647878      |(126,[2,4,5,7,15,16,26,29,33,46,47,75,77,82,97,98],[2.0,2.0,1.0,2.0,1.0,1.0,1.0,1.0,2.0,2.0,3.0,1.0,1.0,1.0,1.0,1.0])                            |[0.19125301191955207,0.0040983916663836755,0.004086107688816747,0.004083349199286462,0.004110957402759696,0.004098753253902999,0.19561536873518443,0.22684172884577525,0.3617340598807484,0.004078271407590252]     |\n",
            "|7648201      |(126,[27,60,69,97,125],[1.0,1.0,1.0,1.0,1.0])                                                                                                    |[0.016397053234556997,0.5440046832482559,0.016379883096773264,0.016376845388562142,0.016482877181042146,0.32491522648769394,0.016342983175043645,0.016456042398986504,0.016291099904078593,0.016353305885006948]    |\n",
            "|7648210      |(126,[2,5,33,77,89,98],[3.0,2.0,1.0,3.0,1.0,3.0])                                                                                                |[0.25011238796289037,0.0070293262101324885,0.00700781400036594,0.007003283009632625,0.00704938475892674,0.007029818609014573,0.00699173150468373,0.286406388041289,0.41437494237969774,0.006994923523366645]        |\n",
            "+-------------+-------------------------------------------------------------------------------------------------------------------------------------------------+--------------------------------------------------------------------------------------------------------------------------------------------------------------------------------------------------------------------+\n",
            "only showing top 20 rows\n",
            "\n"
          ]
        }
      ],
      "source": [
        "\n",
        "# Shows the result\n",
        "transformed = model.transform(plate_utility_matrix_with_mlVectors)\n",
        "transformed.show(truncate=False)"
      ]
    },
    {
      "cell_type": "markdown",
      "metadata": {},
      "source": [
        "# Streaming\n"
      ]
    },
    {
      "cell_type": "markdown",
      "metadata": {},
      "source": [
        "## on csv"
      ]
    },
    {
      "cell_type": "code",
      "execution_count": 130,
      "metadata": {},
      "outputs": [],
      "source": [
        "csvDF = spark \\\n",
        "    .readStream \\\n",
        "    .schema(trafic_schema) \\\n",
        "    .csv(\"Traffic*.csv\", header=True, schema=trafic_schema)  # Equivalent to format(\"csv\").load(\"/path/to/directory\")"
      ]
    },
    {
      "cell_type": "code",
      "execution_count": 131,
      "metadata": {},
      "outputs": [],
      "source": [
        "# .withWatermark(\"PASS_DAY_TIME\", \"360 minutes\") \\\n",
        "windowed_count = csvDF.groupBy(\n",
        "    f.window(\n",
        "        f.col('PASS_DAY_TIME'), \"12 hours\",\n",
        "        \"6 hours\"),\n",
        "    f.col('DEVICE_CODE')).count()\n"
      ]
    },
    {
      "cell_type": "code",
      "execution_count": 137,
      "metadata": {},
      "outputs": [],
      "source": [
        "query = windowed_count \\\n",
        "    .writeStream \\\n",
        "    .outputMode(\"complete\") \\\n",
        "    .format(\"memory\") \\\n",
        "    .queryName(\"your_query_name\") \\\n",
        "    .start()\n"
      ]
    },
    {
      "cell_type": "code",
      "execution_count": 13,
      "metadata": {},
      "outputs": [],
      "source": [
        "from IPython.display import display, clear_output\n",
        "import time\n",
        "# while True:\n",
        "#     clear_output(wait=True)\n",
        "#     display(query.status)\n",
        "#     display(query.lastProgress)\n",
        "#     display(spark.sql('SELECT * FROM your_query_name').show())\n",
        "#     time.sleep(5)"
      ]
    },
    {
      "cell_type": "code",
      "execution_count": 141,
      "metadata": {},
      "outputs": [],
      "source": [
        "query.stop()\n"
      ]
    },
    {
      "cell_type": "code",
      "execution_count": 142,
      "metadata": {},
      "outputs": [
        {
          "ename": "AnalysisException",
          "evalue": "Queries with streaming sources must be executed with writeStream.start();\nFileSource[Traffic*.csv]",
          "output_type": "error",
          "traceback": [
            "\u001b[0;31m---------------------------------------------------------------------------\u001b[0m",
            "\u001b[0;31mAnalysisException\u001b[0m                         Traceback (most recent call last)",
            "\u001b[0;32m<ipython-input-142-1aab0a0babe1>\u001b[0m in \u001b[0;36m<module>\u001b[0;34m\u001b[0m\n\u001b[0;32m----> 1\u001b[0;31m \u001b[0mwindowed_count\u001b[0m\u001b[0;34m.\u001b[0m\u001b[0mcollect\u001b[0m\u001b[0;34m(\u001b[0m\u001b[0;34m)\u001b[0m\u001b[0;34m\u001b[0m\u001b[0;34m\u001b[0m\u001b[0m\n\u001b[0m",
            "\u001b[0;32m/opt/spark-3.1.2-bin-hadoop2.7/python/lib/pyspark.zip/pyspark/sql/dataframe.py\u001b[0m in \u001b[0;36mcollect\u001b[0;34m(self)\u001b[0m\n\u001b[1;32m    675\u001b[0m         \"\"\"\n\u001b[1;32m    676\u001b[0m         \u001b[0;32mwith\u001b[0m \u001b[0mSCCallSiteSync\u001b[0m\u001b[0;34m(\u001b[0m\u001b[0mself\u001b[0m\u001b[0;34m.\u001b[0m\u001b[0m_sc\u001b[0m\u001b[0;34m)\u001b[0m \u001b[0;32mas\u001b[0m \u001b[0mcss\u001b[0m\u001b[0;34m:\u001b[0m\u001b[0;34m\u001b[0m\u001b[0;34m\u001b[0m\u001b[0m\n\u001b[0;32m--> 677\u001b[0;31m             \u001b[0msock_info\u001b[0m \u001b[0;34m=\u001b[0m \u001b[0mself\u001b[0m\u001b[0;34m.\u001b[0m\u001b[0m_jdf\u001b[0m\u001b[0;34m.\u001b[0m\u001b[0mcollectToPython\u001b[0m\u001b[0;34m(\u001b[0m\u001b[0;34m)\u001b[0m\u001b[0;34m\u001b[0m\u001b[0;34m\u001b[0m\u001b[0m\n\u001b[0m\u001b[1;32m    678\u001b[0m         \u001b[0;32mreturn\u001b[0m \u001b[0mlist\u001b[0m\u001b[0;34m(\u001b[0m\u001b[0m_load_from_socket\u001b[0m\u001b[0;34m(\u001b[0m\u001b[0msock_info\u001b[0m\u001b[0;34m,\u001b[0m \u001b[0mBatchedSerializer\u001b[0m\u001b[0;34m(\u001b[0m\u001b[0mPickleSerializer\u001b[0m\u001b[0;34m(\u001b[0m\u001b[0;34m)\u001b[0m\u001b[0;34m)\u001b[0m\u001b[0;34m)\u001b[0m\u001b[0;34m)\u001b[0m\u001b[0;34m\u001b[0m\u001b[0;34m\u001b[0m\u001b[0m\n\u001b[1;32m    679\u001b[0m \u001b[0;34m\u001b[0m\u001b[0m\n",
            "\u001b[0;32m/opt/spark-3.1.2-bin-hadoop2.7/python/lib/py4j-0.10.9-src.zip/py4j/java_gateway.py\u001b[0m in \u001b[0;36m__call__\u001b[0;34m(self, *args)\u001b[0m\n\u001b[1;32m   1302\u001b[0m \u001b[0;34m\u001b[0m\u001b[0m\n\u001b[1;32m   1303\u001b[0m         \u001b[0manswer\u001b[0m \u001b[0;34m=\u001b[0m \u001b[0mself\u001b[0m\u001b[0;34m.\u001b[0m\u001b[0mgateway_client\u001b[0m\u001b[0;34m.\u001b[0m\u001b[0msend_command\u001b[0m\u001b[0;34m(\u001b[0m\u001b[0mcommand\u001b[0m\u001b[0;34m)\u001b[0m\u001b[0;34m\u001b[0m\u001b[0;34m\u001b[0m\u001b[0m\n\u001b[0;32m-> 1304\u001b[0;31m         return_value = get_return_value(\n\u001b[0m\u001b[1;32m   1305\u001b[0m             answer, self.gateway_client, self.target_id, self.name)\n\u001b[1;32m   1306\u001b[0m \u001b[0;34m\u001b[0m\u001b[0m\n",
            "\u001b[0;32m/opt/spark-3.1.2-bin-hadoop2.7/python/lib/pyspark.zip/pyspark/sql/utils.py\u001b[0m in \u001b[0;36mdeco\u001b[0;34m(*a, **kw)\u001b[0m\n\u001b[1;32m    115\u001b[0m                 \u001b[0;31m# Hide where the exception came from that shows a non-Pythonic\u001b[0m\u001b[0;34m\u001b[0m\u001b[0;34m\u001b[0m\u001b[0;34m\u001b[0m\u001b[0m\n\u001b[1;32m    116\u001b[0m                 \u001b[0;31m# JVM exception message.\u001b[0m\u001b[0;34m\u001b[0m\u001b[0;34m\u001b[0m\u001b[0;34m\u001b[0m\u001b[0m\n\u001b[0;32m--> 117\u001b[0;31m                 \u001b[0;32mraise\u001b[0m \u001b[0mconverted\u001b[0m \u001b[0;32mfrom\u001b[0m \u001b[0;32mNone\u001b[0m\u001b[0;34m\u001b[0m\u001b[0;34m\u001b[0m\u001b[0m\n\u001b[0m\u001b[1;32m    118\u001b[0m             \u001b[0;32melse\u001b[0m\u001b[0;34m:\u001b[0m\u001b[0;34m\u001b[0m\u001b[0;34m\u001b[0m\u001b[0m\n\u001b[1;32m    119\u001b[0m                 \u001b[0;32mraise\u001b[0m\u001b[0;34m\u001b[0m\u001b[0;34m\u001b[0m\u001b[0m\n",
            "\u001b[0;31mAnalysisException\u001b[0m: Queries with streaming sources must be executed with writeStream.start();\nFileSource[Traffic*.csv]"
          ]
        }
      ],
      "source": [
        "windowed_count.collect()"
      ]
    },
    {
      "cell_type": "markdown",
      "metadata": {},
      "source": [
        "## online"
      ]
    },
    {
      "cell_type": "code",
      "execution_count": 5,
      "metadata": {},
      "outputs": [],
      "source": [
        "lines = spark \\\n",
        "    .readStream \\\n",
        "    .format(\"socket\") \\\n",
        "    .option(\"host\", \"localhost\") \\\n",
        "    .option(\"port\", 9999) \\\n",
        "    .load()\n"
      ]
    },
    {
      "cell_type": "code",
      "execution_count": 6,
      "metadata": {},
      "outputs": [],
      "source": [
        "from collections import defaultdict\n",
        "words_dict = defaultdict(lambda: 0)\n",
        "\n",
        "\n",
        "def get_count(key):\n",
        "    return words_dict.get(key, 0)\n",
        "\n",
        "\n",
        "def update_dict(key, count):\n",
        "    words_dict[key] = count\n"
      ]
    },
    {
      "cell_type": "code",
      "execution_count": 259,
      "metadata": {},
      "outputs": [],
      "source": [
        "global wordsCountDict\n",
        "wordsCountDict = sc.broadcast({})\n",
        "\n"
      ]
    },
    {
      "cell_type": "code",
      "execution_count": 261,
      "metadata": {},
      "outputs": [
        {
          "data": {
            "text/plain": [
              "{}"
            ]
          },
          "execution_count": 261,
          "metadata": {},
          "output_type": "execute_result"
        }
      ],
      "source": [
        "wordsCountDict.value\n"
      ]
    },
    {
      "cell_type": "code",
      "execution_count": 9,
      "metadata": {},
      "outputs": [],
      "source": [
        "def count_word(word):\n",
        "    if word is not None:\n",
        "        count = wordsCountDict.value.get(word, 0) + 1\n",
        "        wordsCountDict.value[word] = count\n",
        "        return count\n",
        "    return 0\n",
        "\n",
        "\n",
        "count_word_udf = f.udf(count_word, IntegerType())\n"
      ]
    },
    {
      "cell_type": "code",
      "execution_count": 7,
      "metadata": {},
      "outputs": [],
      "source": [
        "words = lines.select(\n",
        "   f.explode(\n",
        "       f.split(lines.value, \" \")\n",
        "   ).alias(\"word\"), f.lit(1).alias('count')\n",
        ")"
      ]
    },
    {
      "cell_type": "code",
      "execution_count": 10,
      "metadata": {},
      "outputs": [],
      "source": [
        "words_with_count = words.select('word', count_word_udf(f.col('word')).alias('count'))"
      ]
    },
    {
      "cell_type": "code",
      "execution_count": 11,
      "metadata": {},
      "outputs": [],
      "source": [
        "query = words_with_count \\\n",
        "    .writeStream \\\n",
        "    .outputMode(\"append\") \\\n",
        "    .format(\"memory\") \\\n",
        "    .queryName(\"your_query_name\") \\\n",
        "    .start()\n",
        "\n",
        "# query.awaitTermination()"
      ]
    },
    {
      "cell_type": "code",
      "execution_count": 14,
      "metadata": {},
      "outputs": [
        {
          "data": {
            "text/plain": [
              "{'message': 'Terminated with exception: Writing job aborted.',\n",
              " 'isDataAvailable': False,\n",
              " 'isTriggerActive': False}"
            ]
          },
          "metadata": {},
          "output_type": "display_data"
        },
        {
          "data": {
            "text/plain": [
              "{'id': 'a0a8849d-6e48-46fb-8501-4e56618a8c27',\n",
              " 'runId': '7c53bcab-14cf-4c8f-b62f-dd51cb1a75f3',\n",
              " 'name': 'your_query_name',\n",
              " 'timestamp': '2022-02-07T14:33:53.674Z',\n",
              " 'batchId': 1,\n",
              " 'numInputRows': 0,\n",
              " 'inputRowsPerSecond': 0.0,\n",
              " 'processedRowsPerSecond': 0.0,\n",
              " 'durationMs': {'latestOffset': 0, 'triggerExecution': 0},\n",
              " 'stateOperators': [],\n",
              " 'sources': [{'description': 'TextSocketV2[host: localhost, port: 9999]',\n",
              "   'startOffset': -1,\n",
              "   'endOffset': -1,\n",
              "   'numInputRows': 0,\n",
              "   'inputRowsPerSecond': 0.0,\n",
              "   'processedRowsPerSecond': 0.0}],\n",
              " 'sink': {'description': 'MemorySink', 'numOutputRows': 0}}"
            ]
          },
          "metadata": {},
          "output_type": "display_data"
        },
        {
          "name": "stdout",
          "output_type": "stream",
          "text": [
            "+----+-----+\n",
            "|word|count|\n",
            "+----+-----+\n",
            "+----+-----+\n",
            "\n"
          ]
        },
        {
          "data": {
            "text/plain": [
              "None"
            ]
          },
          "metadata": {},
          "output_type": "display_data"
        },
        {
          "ename": "KeyboardInterrupt",
          "evalue": "",
          "output_type": "error",
          "traceback": [
            "\u001b[0;31m---------------------------------------------------------------------------\u001b[0m",
            "\u001b[0;31mKeyboardInterrupt\u001b[0m                         Traceback (most recent call last)",
            "\u001b[0;32m<ipython-input-14-2055380189f2>\u001b[0m in \u001b[0;36m<module>\u001b[0;34m\u001b[0m\n\u001b[1;32m      4\u001b[0m     \u001b[0mdisplay\u001b[0m\u001b[0;34m(\u001b[0m\u001b[0mquery\u001b[0m\u001b[0;34m.\u001b[0m\u001b[0mlastProgress\u001b[0m\u001b[0;34m)\u001b[0m\u001b[0;34m\u001b[0m\u001b[0;34m\u001b[0m\u001b[0m\n\u001b[1;32m      5\u001b[0m     \u001b[0mdisplay\u001b[0m\u001b[0;34m(\u001b[0m\u001b[0mspark\u001b[0m\u001b[0;34m.\u001b[0m\u001b[0msql\u001b[0m\u001b[0;34m(\u001b[0m\u001b[0;34m'SELECT * FROM your_query_name'\u001b[0m\u001b[0;34m)\u001b[0m\u001b[0;34m.\u001b[0m\u001b[0mshow\u001b[0m\u001b[0;34m(\u001b[0m\u001b[0;34m)\u001b[0m\u001b[0;34m)\u001b[0m\u001b[0;34m\u001b[0m\u001b[0;34m\u001b[0m\u001b[0m\n\u001b[0;32m----> 6\u001b[0;31m     \u001b[0mtime\u001b[0m\u001b[0;34m.\u001b[0m\u001b[0msleep\u001b[0m\u001b[0;34m(\u001b[0m\u001b[0;36m5\u001b[0m\u001b[0;34m)\u001b[0m\u001b[0;34m\u001b[0m\u001b[0;34m\u001b[0m\u001b[0m\n\u001b[0m",
            "\u001b[0;31mKeyboardInterrupt\u001b[0m: "
          ]
        }
      ],
      "source": [
        "\n",
        "while True:\n",
        "    clear_output(wait=True)\n",
        "    display(query.status)\n",
        "    display(query.lastProgress)\n",
        "    display(spark.sql('SELECT * FROM your_query_name').show())\n",
        "    time.sleep(5)"
      ]
    },
    {
      "cell_type": "code",
      "execution_count": 15,
      "metadata": {},
      "outputs": [],
      "source": [
        "query.stop()"
      ]
    },
    {
      "cell_type": "code",
      "execution_count": null,
      "metadata": {},
      "outputs": [],
      "source": []
    }
  ],
  "metadata": {
    "colab": {
      "collapsed_sections": [
        "8B_-fjG9dZy5",
        "8QM9ePaIdZy6",
        "E27iH9ogdZy7",
        "xOLlZGH8dZy8",
        "Ta7gzxTUdrvv",
        "b8vKeYNMIUiR",
        "bVrZ6n8-BeH4"
      ],
      "name": "MDA_2021.ipynb",
      "provenance": []
    },
    "kernelspec": {
      "display_name": "Python 3",
      "name": "python3"
    },
    "language_info": {
      "codemirror_mode": {
        "name": "ipython",
        "version": 3
      },
      "file_extension": ".py",
      "mimetype": "text/x-python",
      "name": "python",
      "nbconvert_exporter": "python",
      "pygments_lexer": "ipython3",
      "version": "3.8.10"
    }
  },
  "nbformat": 4,
  "nbformat_minor": 0
}
